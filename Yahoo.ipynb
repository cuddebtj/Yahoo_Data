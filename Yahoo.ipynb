{
 "cells": [
  {
   "cell_type": "code",
   "execution_count": null,
   "id": "b1ad4bae",
   "metadata": {},
   "outputs": [],
   "source": [
    "__author__ = \"Tim Cuddeback\"\n",
    "\n",
    "import yfpy, json, ast\n",
    "from itertools import chain\n",
    "from yfpy.query import YahooFantasySportsQuery\n",
    "from yfpy.utils import unpack_data\n",
    "import pandas as pd\n",
    "pd.set_option('display.max_colwidth', None)"
   ]
  },
  {
   "cell_type": "code",
   "execution_count": null,
   "id": "a92cfaee",
   "metadata": {},
   "outputs": [],
   "source": [
    "# Function that pulls data from Yahoo's Fantasy API and returns a sorted list of tuples with (team_id,current points)\n",
    "league_id = '12514' # put your real league id here\n",
    "game_id = \"399\" # put the game id here (game id's reflect the type of sport and the year)\n",
    "game_code = \"nfl\" # put the game code here\n",
    "season = \"2020\" # put the year of the current fantasy season\n",
    "auth_dir = '' # put the location where you are storing the client_id/secret\n",
    "working_dir = '' # put the location where you want excel file to be saved\n",
    "excel_file_name = 'Points.xlsx' # Name your file after you set up the headers\n",
    "\n",
    "# Query yffpy to get data\n",
    "yahoo_query = YahooFantasySportsQuery(auth_dir, league_id, game_id=game_id, game_code=game_code, offline=False)\n",
    "\n",
    "# Get standings data to get the points for the day\n",
    "data = yahoo_query.get_team_roster_by_week(1,1)\n",
    "# .get_league_teams(self)\n",
    "# .get_league_players(self)\n",
    "# .get_league_draft_results(self)\n",
    "# .get_league_matchups_by_week(self,chosen_week)\n",
    "# .get_team_info(self,team_id)\n",
    "# .get_team_standings(self,team_id) # has current \"streak\" within\n",
    "# .get_player_stats_by_week(self, player_key, chosen_week=\"current\")"
   ]
  },
  {
   "cell_type": "code",
   "execution_count": null,
   "id": "0c4d6051",
   "metadata": {},
   "outputs": [],
   "source": []
  },
  {
   "cell_type": "code",
   "execution_count": null,
   "id": "53a19f0b",
   "metadata": {},
   "outputs": [],
   "source": []
  },
  {
   "cell_type": "code",
   "execution_count": null,
   "id": "51ba2eb6",
   "metadata": {},
   "outputs": [],
   "source": []
  },
  {
   "cell_type": "code",
   "execution_count": null,
   "id": "284aa3bc",
   "metadata": {},
   "outputs": [],
   "source": []
  }
 ],
 "metadata": {
  "kernelspec": {
   "display_name": "Python 3",
   "language": "python",
   "name": "python3"
  },
  "language_info": {
   "codemirror_mode": {
    "name": "ipython",
    "version": 3
   },
   "file_extension": ".py",
   "mimetype": "text/x-python",
   "name": "python",
   "nbconvert_exporter": "python",
   "pygments_lexer": "ipython3",
   "version": "3.7.10"
  }
 },
 "nbformat": 4,
 "nbformat_minor": 5
}
