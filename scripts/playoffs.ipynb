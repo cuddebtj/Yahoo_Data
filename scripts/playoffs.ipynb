{
 "cells": [
  {
   "cell_type": "code",
   "execution_count": 25,
   "metadata": {},
   "outputs": [],
   "source": [
    "import pandas as pd\n",
    "import numpy as np\n",
    "import math\n",
    "import math\n",
    "from pathlib import Path\n",
    "\n",
    "from tournament import Tournament, Participant, Match\n",
    "\n",
    "pd.set_option(\"display.max_rows\", 9999)\n",
    "pd.set_option(\"display.max_colwidth\", 40)\n",
    "pd.set_option(\"display.max_columns\", 999)\n",
    "pd.set_option(\"display.precision\", 2)\n",
    "\n",
    "from db_psql_model import DatabaseCursor\n",
    "\n",
    "PATH = list(Path().cwd().parent.glob(\"**/private.yaml\"))[0]\n",
    "OPTION_DEV = \"-c search_path=dev\"\n",
    "OPTION_PROD = \"-c search_path=prod\"\n",
    "GAME_ID = 406  #4 Team 2021\n",
    "GAME_ID = 359  # 6 Team 2016\n",
    "# GAME_ID = 273  # 8 team 2012"
   ]
  },
  {
   "cell_type": "code",
   "execution_count": 29,
   "metadata": {},
   "outputs": [
    {
     "name": "stdout",
     "output_type": "stream",
     "text": [
      "Successfully pulled: SELECT game_id, league_id, max_teams, num_playoff_consolation_teams, num_playoff_teams, playoff_start_week  from dev.league_settings where game_id = '359'\n",
      "Successfully pulled: SELECT game_id, league_id, end_week FROM dev.league_metadata\n",
      "Successfully pulled: SELECT * FROM prod.playoff_board_359\n"
     ]
    },
    {
     "data": {
      "text/html": [
       "<div>\n",
       "<style scoped>\n",
       "    .dataframe tbody tr th:only-of-type {\n",
       "        vertical-align: middle;\n",
       "    }\n",
       "\n",
       "    .dataframe tbody tr th {\n",
       "        vertical-align: top;\n",
       "    }\n",
       "\n",
       "    .dataframe thead th {\n",
       "        text-align: right;\n",
       "    }\n",
       "</style>\n",
       "<table border=\"1\" class=\"dataframe\">\n",
       "  <thead>\n",
       "    <tr style=\"text-align: right;\">\n",
       "      <th></th>\n",
       "      <th>week</th>\n",
       "      <th>team_pts</th>\n",
       "      <th>team_pro_pts</th>\n",
       "      <th>ttl_pts_for_run</th>\n",
       "      <th>ttl_pro_pts_for_run</th>\n",
       "      <th>game_id</th>\n",
       "      <th>team_key</th>\n",
       "      <th>team_name</th>\n",
       "      <th>team_nickname</th>\n",
       "      <th>reg_season_rank</th>\n",
       "    </tr>\n",
       "    <tr>\n",
       "      <th>team_key</th>\n",
       "      <th></th>\n",
       "      <th></th>\n",
       "      <th></th>\n",
       "      <th></th>\n",
       "      <th></th>\n",
       "      <th></th>\n",
       "      <th></th>\n",
       "      <th></th>\n",
       "      <th></th>\n",
       "      <th></th>\n",
       "    </tr>\n",
       "  </thead>\n",
       "  <tbody>\n",
       "  </tbody>\n",
       "</table>\n",
       "</div>"
      ],
      "text/plain": [
       "Empty DataFrame\n",
       "Columns: [week, team_pts, team_pro_pts, ttl_pts_for_run, ttl_pro_pts_for_run, game_id, team_key, team_name, team_nickname, reg_season_rank]\n",
       "Index: []"
      ]
     },
     "execution_count": 29,
     "metadata": {},
     "output_type": "execute_result"
    }
   ],
   "source": [
    "league_settings_query = f\"SELECT game_id, league_id, max_teams, num_playoff_consolation_teams, num_playoff_teams, playoff_start_week  from dev.league_settings where game_id = '{GAME_ID}'\"\n",
    "league_settings = DatabaseCursor(PATH, options=OPTION_DEV).copy_data_from_postgres(\n",
    "    league_settings_query\n",
    ").drop_duplicates()\n",
    "\n",
    "meta_query = \"SELECT game_id, league_id, end_week FROM dev.league_metadata\"\n",
    "meta = DatabaseCursor(PATH).copy_data_from_postgres(meta_query).drop_duplicates()\n",
    "\n",
    "league_settings = league_settings.merge(meta, how='inner', left_on=['game_id', 'league_id'], right_on=['game_id', 'league_id'])\n",
    "\n",
    "num_playoff_teams = league_settings[\"num_playoff_teams\"].values[0]\n",
    "num_toliet_teams = league_settings[\"num_playoff_consolation_teams\"].values[0]\n",
    "playoff_start_week = league_settings[\"playoff_start_week\"].values[0]\n",
    "playoff_end_week = league_settings[\"end_week\"].values[0]\n",
    "playoff_weeks = range(playoff_start_week, playoff_end_week+1)\n",
    "\n",
    "matchup_board_query = f\"SELECT * FROM prod.playoff_board_{str(GAME_ID)}\"\n",
    "matchup_board = DatabaseCursor(PATH, options=OPTION_PROD).copy_data_from_postgres(\n",
    "    matchup_board_query\n",
    ").drop_duplicates()\n",
    "\n",
    "playoff_teams = list(\n",
    "    matchup_board[\"team_name\"][matchup_board[\"reg_season_rank\"] <= num_playoff_teams].unique()\n",
    ")\n",
    "if num_toliet_teams != 0:\n",
    "    toilet_teams = list(\n",
    "        matchup_board[\"team_name\"][matchup_board[\"reg_season_rank\"] > num_playoff_teams].unique()\n",
    "    )\n",
    "else:\n",
    "    toilet_teams = False\n",
    "\n",
    "matchup_board.set_index(matchup_board['team_key'], drop=True, inplace=True)\n",
    "matchup_board"
   ]
  },
  {
   "cell_type": "code",
   "execution_count": 27,
   "metadata": {},
   "outputs": [
    {
     "name": "stdout",
     "output_type": "stream",
     "text": [
      "['Goons', 'Tebowners', 'Bro Lo El Cunado', 'ELE', 'Ruxin', 'The Fear Boners']\n",
      "['ghost', 'Taco', 'Potatum', 'Cudde2', 'La Flama Blanca', 'Role players for day']\n"
     ]
    }
   ],
   "source": [
    "print(playoff_teams)\n",
    "print(toilet_teams)"
   ]
  },
  {
   "cell_type": "code",
   "execution_count": 13,
   "metadata": {},
   "outputs": [],
   "source": [
    "playoff_bracket = Tournament(playoff_teams)\n",
    "if toilet_teams:\n",
    "    toilet_bracket = Tournament(toilet_teams)"
   ]
  },
  {
   "cell_type": "code",
   "execution_count": 15,
   "metadata": {},
   "outputs": [],
   "source": [
    "for match in playoff_bracket.get_active_matches():\n",
    "    right_comp = match.get_participants()[0].get_competitor()\n",
    "    right_score = matchup_board['team_pts'][(matchup_board['team_name'] == right_comp) & (matchup_board['week'] == playoff_start_week)].values[0]\n",
    "    left_comp = match.get_participants()[1].get_competitor()\n",
    "    left_score = matchup_board['team_pts'][(matchup_board['team_name'] == left_comp) & (matchup_board['week'] == playoff_start_week)].values[0]\n",
    "    if right_score > left_score:\n",
    "        match.set_winner(right_comp)\n",
    "    elif right_score < left_score:\n",
    "        match.set_winner(left_comp)\n",
    "\n",
    "for match in playoff_bracket.get_active_matches():\n",
    "    right_comp = match.get_participants()[0].get_competitor()\n",
    "    right_score = matchup_board['team_pts'][(matchup_board['team_name'] == right_comp) & (matchup_board['week'] == playoff_start_week+1)].values[0]\n",
    "    left_comp = match.get_participants()[1].get_competitor()\n",
    "    left_score = matchup_board['team_pts'][(matchup_board['team_name'] == left_comp) & (matchup_board['week'] == playoff_start_week+1)].values[0]\n",
    "    if right_score > left_score:\n",
    "        match.set_winner(right_comp)\n",
    "    elif right_score < left_score:\n",
    "        match.set_winner(left_comp)\n",
    "        \n",
    "for match in playoff_bracket.get_active_matches():\n",
    "    right_comp = match.get_participants()[0].get_competitor()\n",
    "    right_score = matchup_board['team_pts'][(matchup_board['team_name'] == right_comp) & (matchup_board['week'] == playoff_start_week+2)].values[0]\n",
    "    left_comp = match.get_participants()[1].get_competitor()\n",
    "    left_score = matchup_board['team_pts'][(matchup_board['team_name'] == left_comp) & (matchup_board['week'] == playoff_start_week+2)].values[0]\n",
    "    if right_score > left_score:\n",
    "        match.set_winner(right_comp)\n",
    "    elif right_score < left_score:\n",
    "        match.set_winner(left_comp)"
   ]
  },
  {
   "cell_type": "code",
   "execution_count": 19,
   "metadata": {},
   "outputs": [],
   "source": [
    "playoff_bracket.get_final()"
   ]
  },
  {
   "cell_type": "code",
   "execution_count": 22,
   "metadata": {},
   "outputs": [],
   "source": [
    "for match in toilet_bracket.get_active_matches():\n",
    "    right_comp = match.get_participants()[0].get_competitor()\n",
    "    right_score = matchup_board['team_pts'][(matchup_board['team_name'] == right_comp) & (matchup_board['week'] == playoff_start_week)].values[0]\n",
    "    left_comp = match.get_participants()[1].get_competitor()\n",
    "    left_score = matchup_board['team_pts'][(matchup_board['team_name'] == left_comp) & (matchup_board['week'] == playoff_start_week)].values[0]\n",
    "    if right_score > left_score:\n",
    "        match.set_winner(right_comp)\n",
    "    elif right_score < left_score:\n",
    "        match.set_winner(left_comp)\n",
    "\n",
    "for match in toilet_bracket.get_active_matches():\n",
    "    right_comp = match.get_participants()[0].get_competitor()\n",
    "    right_score = matchup_board['team_pts'][(matchup_board['team_name'] == right_comp) & (matchup_board['week'] == playoff_start_week+1)].values[0]\n",
    "    left_comp = match.get_participants()[1].get_competitor()\n",
    "    left_score = matchup_board['team_pts'][(matchup_board['team_name'] == left_comp) & (matchup_board['week'] == playoff_start_week+1)].values[0]\n",
    "    if right_score > left_score:\n",
    "        match.set_winner(right_comp)\n",
    "    elif right_score < left_score:\n",
    "        match.set_winner(left_comp)\n",
    "        \n",
    "for match in toilet_bracket.get_active_matches():\n",
    "    right_comp = match.get_participants()[0].get_competitor()\n",
    "    right_score = matchup_board['team_pts'][(matchup_board['team_name'] == right_comp) & (matchup_board['week'] == playoff_start_week+2)].values[0]\n",
    "    left_comp = match.get_participants()[1].get_competitor()\n",
    "    left_score = matchup_board['team_pts'][(matchup_board['team_name'] == left_comp) & (matchup_board['week'] == playoff_start_week+2)].values[0]\n",
    "    if right_score > left_score:\n",
    "        match.set_winner(right_comp)\n",
    "    elif right_score < left_score:\n",
    "        match.set_winner(left_comp)"
   ]
  },
  {
   "cell_type": "code",
   "execution_count": null,
   "metadata": {},
   "outputs": [],
   "source": [
    "toilet_bracket.get_final()"
   ]
  },
  {
   "cell_type": "code",
   "execution_count": null,
   "metadata": {},
   "outputs": [],
   "source": []
  },
  {
   "cell_type": "code",
   "execution_count": null,
   "metadata": {},
   "outputs": [],
   "source": []
  },
  {
   "cell_type": "code",
   "execution_count": null,
   "metadata": {},
   "outputs": [],
   "source": []
  },
  {
   "cell_type": "code",
   "execution_count": null,
   "metadata": {},
   "outputs": [],
   "source": []
  },
  {
   "cell_type": "code",
   "execution_count": null,
   "metadata": {},
   "outputs": [],
   "source": []
  },
  {
   "cell_type": "code",
   "execution_count": null,
   "metadata": {},
   "outputs": [],
   "source": []
  },
  {
   "cell_type": "code",
   "execution_count": null,
   "metadata": {},
   "outputs": [],
   "source": []
  },
  {
   "cell_type": "code",
   "execution_count": null,
   "metadata": {},
   "outputs": [],
   "source": []
  },
  {
   "cell_type": "code",
   "execution_count": 5,
   "metadata": {},
   "outputs": [],
   "source": [
    "# def tournament_round(df, week, teams):\n",
    "\n",
    "#     tourney = Round(teams)\n",
    "#     winner_list = []\n",
    "#     loser_list = []\n",
    "#     match_list = []\n",
    "#     for match in tourney.get_active_matches():\n",
    "#         home = match.get_participants()[0].get_competitor()\n",
    "#         home_score = df[f'pts_{week}'][df['team_key'] == home].values[0]\n",
    "#         away = match.get_participants()[1].get_competitor()\n",
    "#         away_score = df[f'pts_{week}'][df['team_key'] == away].values[0]\n",
    "#         match_list.append([home, away])\n",
    "\n",
    "#         if home_score > away_score:\n",
    "#             winner_list.append(home)\n",
    "#             loser_list.append(away)\n",
    "#         elif home_score < away_score:\n",
    "#             winner_list.append(away)\n",
    "#             loser_list.append(home)\n",
    "#         else:\n",
    "#             print('Error')\n",
    "    \n",
    "#     return winner_list, loser_list, match_list\n",
    "\n",
    "# def results(contestants):\n",
    "   \n",
    "#     for i in range(len(contestants)):\n",
    "#         lossing_team = matchups[i][1] if winners[i] == matchups[i][0] else matchups[i][0]\n",
    "#         winning_team = matchups[i][1] if losers[i] == matchups[i][0] else matchups[i][0]\n",
    "\n",
    "#         matchup_board.at[winning_team, f'opp_key_{wk}'] = lossing_team\n",
    "#         matchup_board.at[winning_team, f'opp_team_{wk}'] = matchup_board['team'][matchup_board['team_key'] == lossing_team].values[0]\n",
    "#         matchup_board.at[winning_team, f'opp_mgr_{wk}'] = matchup_board['mgr'][matchup_board['team_key'] == lossing_team].values[0]\n",
    "#         matchup_board.at[winning_team, f'opp_pts_{wk}'] = matchup_board[f'pts_{wk}'][matchup_board['team_key'] == lossing_team].values[0]\n",
    "#         matchup_board.at[winning_team, f'opp_pro_pts_{wk}'] = matchup_board[f'pro_pts_{wk}'][matchup_board['team_key'] == lossing_team].values[0]\n",
    "#         matchup_board.at[winning_team, f'win_loss_{wk}'] = 'W'\n",
    "#         matchup_board.at[winning_team, f'consol_{wk}'] = 'N'\n",
    "\n",
    "#         matchup_board.at[lossing_team, f'opp_key_{wk}'] = winning_team\n",
    "#         matchup_board.at[lossing_team, f'opp_team_{wk}'] = matchup_board['team'][matchup_board['team_key'] == winning_team].values[0]\n",
    "#         matchup_board.at[lossing_team, f'opp_mgr_{wk}'] = matchup_board['mgr'][matchup_board['team_key'] == winning_team].values[0]\n",
    "#         matchup_board.at[lossing_team, f'opp_pts_{wk}'] = matchup_board[f'pts_{wk}'][matchup_board['team_key'] == winning_team].values[0]\n",
    "#         matchup_board.at[lossing_team, f'opp_pro_pts_{wk}'] = matchup_board[f'pro_pts_{wk}'][matchup_board['team_key'] == winning_team].values[0]\n",
    "#         matchup_board.at[lossing_team, f'win_loss_{wk}'] = 'L'\n",
    "#         matchup_board.at[lossing_team, f'consol_{wk}'] = 'Y'\n"
   ]
  },
  {
   "cell_type": "code",
   "execution_count": 6,
   "metadata": {},
   "outputs": [
    {
     "name": "stdout",
     "output_type": "stream",
     "text": [
      "['273.l.777818.t.6', '273.l.777818.t.12']\n",
      "['273.l.777818.t.7', '273.l.777818.t.2']\n",
      "[['273.l.777818.t.7', '273.l.777818.t.6'], ['273.l.777818.t.12', '273.l.777818.t.2']]\n",
      "['273.l.777818.t.1', '273.l.777818.t.10']\n",
      "['273.l.777818.t.4', '273.l.777818.t.9']\n",
      "[['273.l.777818.t.1', '273.l.777818.t.4'], ['273.l.777818.t.10', '273.l.777818.t.9']]\n"
     ]
    }
   ],
   "source": [
    "# for wk in playoff_weeks:\n",
    "#     if wk == playoff_start_week:\n",
    "#         teams = list(matchup_board[\"team_key\"][matchup_board[\"reg_season_rank\"] <= num_playoff_teams])\n",
    "#         winners, losers, matchups = tournament_round(matchup_board, wk, teams)\n",
    "\n",
    "#         for i in range(len(winners)):\n",
    "#             lossing_team = matchups[i][1] if winners[i] == matchups[i][0] else matchups[i][0]\n",
    "#             winning_team = matchups[i][1] if losers[i] == matchups[i][0] else matchups[i][0]\n",
    "\n",
    "#             matchup_board.at[winning_team, f'opp_key_{wk}'] = lossing_team\n",
    "#             matchup_board.at[winning_team, f'opp_team_{wk}'] = matchup_board['team'][matchup_board['team_key'] == lossing_team].values[0]\n",
    "#             matchup_board.at[winning_team, f'opp_mgr_{wk}'] = matchup_board['mgr'][matchup_board['team_key'] == lossing_team].values[0]\n",
    "#             matchup_board.at[winning_team, f'opp_pts_{wk}'] = matchup_board[f'pts_{wk}'][matchup_board['team_key'] == lossing_team].values[0]\n",
    "#             matchup_board.at[winning_team, f'opp_pro_pts_{wk}'] = matchup_board[f'pro_pts_{wk}'][matchup_board['team_key'] == lossing_team].values[0]\n",
    "#             matchup_board.at[winning_team, f'win_loss_{wk}'] = f'W.{wk}.{i}'\n",
    "\n",
    "#             matchup_board.at[lossing_team, f'opp_key_{wk}'] = winning_team\n",
    "#             matchup_board.at[lossing_team, f'opp_team_{wk}'] = matchup_board['team'][matchup_board['team_key'] == winning_team].values[0]\n",
    "#             matchup_board.at[lossing_team, f'opp_mgr_{wk}'] = matchup_board['mgr'][matchup_board['team_key'] == winning_team].values[0]\n",
    "#             matchup_board.at[lossing_team, f'opp_pts_{wk}'] = matchup_board[f'pts_{wk}'][matchup_board['team_key'] == winning_team].values[0]\n",
    "#             matchup_board.at[lossing_team, f'opp_pro_pts_{wk}'] = matchup_board[f'pro_pts_{wk}'][matchup_board['team_key'] == winning_team].values[0]\n",
    "#             matchup_board.at[lossing_team, f'win_loss_{wk}'] = f'L.{wk}.{i}'\n",
    "\n",
    "#     elif wk == playoff_start_week+1:\n",
    "#         matchup_board.sort_values([f'win_loss_{wk-1}'], inplace=True)\n",
    "#         p_teams = list(matchup_board[\"team_key\"][matchup_board[f\"win_loss_{wk-1}\"].str.contains('W') == True])\n",
    "#         c_teams = list(matchup_board[\"team_key\"][matchup_board[f\"win_loss_{wk-1}\"].str.contains('L') == True])\n",
    "#         p_winners, p_losers, p_matchups = tournament_round(matchup_board, wk, p_teams)\n",
    "#         c_winners, c_losers, c_matchups = tournament_round(matchup_board, wk, c_teams)\n",
    "#         print(p_winners, p_losers, p_matchups, sep='\\n')\n",
    "#         print(c_winners, c_losers, c_matchups, sep='\\n')\n",
    "\n",
    "#         for i in range(len(p_winners)):\n",
    "#             lossing_team = p_matchups[i][1] if p_winners[i] == p_matchups[i][0] else p_matchups[i][0]\n",
    "#             winning_team = p_matchups[i][1] if p_losers[i] == p_matchups[i][0] else p_matchups[i][0]\n",
    "\n",
    "#             matchup_board.at[winning_team, f'opp_key_{wk}'] = lossing_team\n",
    "#             matchup_board.at[winning_team, f'opp_team_{wk}'] = matchup_board['team'][matchup_board['team_key'] == lossing_team].values[0]\n",
    "#             matchup_board.at[winning_team, f'opp_mgr_{wk}'] = matchup_board['mgr'][matchup_board['team_key'] == lossing_team].values[0]\n",
    "#             matchup_board.at[winning_team, f'opp_pts_{wk}'] = matchup_board[f'pts_{wk}'][matchup_board['team_key'] == lossing_team].values[0]\n",
    "#             matchup_board.at[winning_team, f'opp_pro_pts_{wk}'] = matchup_board[f'pro_pts_{wk}'][matchup_board['team_key'] == lossing_team].values[0]\n",
    "#             matchup_board.at[winning_team, f'win_loss_{wk}'] = f'W.{wk}.{i}'\n",
    "\n",
    "#             matchup_board.at[lossing_team, f'opp_key_{wk}'] = winning_team\n",
    "#             matchup_board.at[lossing_team, f'opp_team_{wk}'] = matchup_board['team'][matchup_board['team_key'] == winning_team].values[0]\n",
    "#             matchup_board.at[lossing_team, f'opp_mgr_{wk}'] = matchup_board['mgr'][matchup_board['team_key'] == winning_team].values[0]\n",
    "#             matchup_board.at[lossing_team, f'opp_pts_{wk}'] = matchup_board[f'pts_{wk}'][matchup_board['team_key'] == winning_team].values[0]\n",
    "#             matchup_board.at[lossing_team, f'opp_pro_pts_{wk}'] = matchup_board[f'pro_pts_{wk}'][matchup_board['team_key'] == winning_team].values[0]\n",
    "#             matchup_board.at[lossing_team, f'win_loss_{wk}'] = f'L.{wk}.{i}'\n",
    "\n",
    "#         for i in range(len(c_winners)):\n",
    "#             lossing_team = c_matchups[i][1] if c_winners[i] == c_matchups[i][0] else c_matchups[i][0]\n",
    "#             winning_team = c_matchups[i][1] if c_losers[i] == c_matchups[i][0] else c_matchups[i][0]\n",
    "\n",
    "#             matchup_board.at[winning_team, f'opp_key_{wk}'] = lossing_team\n",
    "#             matchup_board.at[winning_team, f'opp_team_{wk}'] = matchup_board['team'][matchup_board['team_key'] == lossing_team].values[0]\n",
    "#             matchup_board.at[winning_team, f'opp_mgr_{wk}'] = matchup_board['mgr'][matchup_board['team_key'] == lossing_team].values[0]\n",
    "#             matchup_board.at[winning_team, f'opp_pts_{wk}'] = matchup_board[f'pts_{wk}'][matchup_board['team_key'] == lossing_team].values[0]\n",
    "#             matchup_board.at[winning_team, f'opp_pro_pts_{wk}'] = matchup_board[f'pro_pts_{wk}'][matchup_board['team_key'] == lossing_team].values[0]\n",
    "#             matchup_board.at[winning_team, f'win_loss_{wk}'] = f'C.W.{wk}.{i}'\n",
    "\n",
    "#             matchup_board.at[lossing_team, f'opp_key_{wk}'] = winning_team\n",
    "#             matchup_board.at[lossing_team, f'opp_team_{wk}'] = matchup_board['team'][matchup_board['team_key'] == winning_team].values[0]\n",
    "#             matchup_board.at[lossing_team, f'opp_mgr_{wk}'] = matchup_board['mgr'][matchup_board['team_key'] == winning_team].values[0]\n",
    "#             matchup_board.at[lossing_team, f'opp_pts_{wk}'] = matchup_board[f'pts_{wk}'][matchup_board['team_key'] == winning_team].values[0]\n",
    "#             matchup_board.at[lossing_team, f'opp_pro_pts_{wk}'] = matchup_board[f'pro_pts_{wk}'][matchup_board['team_key'] == winning_team].values[0]\n",
    "#             matchup_board.at[lossing_team, f'win_loss_{wk}'] = f'C.L.{wk}.{i}'\n",
    "\n"
   ]
  },
  {
   "cell_type": "code",
   "execution_count": 87,
   "metadata": {},
   "outputs": [],
   "source": [
    "# # def test_tourney():\n",
    "\n",
    "# __matches = []\n",
    "# next_higher_power_of_two = int(\n",
    "#     math.pow(2, math.ceil(math.log2(len(competitors_list))))\n",
    "# )\n",
    "# winners_number_of_byes = next_higher_power_of_two - len(competitors_list)\n",
    "# incoming_participants = list(map(Participant, competitors_list))\n",
    "# incoming_participants.extend([None] * winners_number_of_byes)\n",
    "# num_of_rounds = int(math.ceil(math.log2(len(incoming_participants))))\n",
    "\n",
    "# round_ = 1\n",
    "# while round_ <= num_of_rounds:\n",
    "#     if round_ == 1:\n",
    "#         half_length = int(len(incoming_participants) / 2)\n",
    "#         first = incoming_participants[0:half_length]\n",
    "#         last = incoming_participants[half_length:]\n",
    "#         last.reverse()\n",
    "#         round_1_winners = []\n",
    "#         round_1_losers = []\n",
    "#         for participant_pair in zip(first, last):\n",
    "#             if participant_pair[1] is None:\n",
    "#                 round_1_winners.append(participant_pair[0])\n",
    "#             elif participant_pair[0] is None:\n",
    "#                 round_1_winners.append(participant_pair[1])\n",
    "#             else:\n",
    "#                 match = Match(participant_pair[0], participant_pair[1])\n",
    "#                 round_1_winners.append(match.get_winner_participant())\n",
    "#                 round_1_losers.append(match.get_loser_participant())\n",
    "#                 __matches.append(match)\n",
    "#         next_round = [round_1_winners, round_1_losers]\n",
    "#         round_ += 1\n",
    "    \n",
    "#     elif round_ > 1:\n",
    "#         while True:\n",
    "#             if len(next_round[0]) > 1:\n",
    "#                 bracket = next_round[0]\n",
    "#                 half_length = int(len(bracket) / 2)\n",
    "#                 first = bracket[0:half_length]\n",
    "#                 last = bracket[half_length:]\n",
    "#                 last.reverse()\n",
    "#                 next_round_winners = []\n",
    "#                 next_round_losers = []\n",
    "#                 for participant_pair in zip(first, last):\n",
    "#                     if participant_pair[1] is None:\n",
    "#                         next_round_winners.append(participant_pair[0])\n",
    "#                     elif participant_pair[0] is None:\n",
    "#                         next_round_winners.append(participant_pair[1])\n",
    "#                     else:\n",
    "#                         match = Match(participant_pair[0], participant_pair[1])\n",
    "#                         next_round_winners.append(match.get_winner_participant())\n",
    "#                         next_round_losers.append(match.get_loser_participant())\n",
    "#                         __matches.append(match)\n",
    "#                 try:\n",
    "#                     next_round.remove(bracket)\n",
    "#                 except:\n",
    "#                     continue\n",
    "#                 next_round.append(next_round_winners)\n",
    "#                 next_round.append(next_round_losers)\n",
    "#                 next_round = [ele for ele in next_round if ele != []]\n",
    "#                 if len(next_round) == len(competitors_list):\n",
    "#                     break\n",
    "#             round_ += 1\n",
    "\n",
    "#     # return next_round, __matches, competitors_list"
   ]
  },
  {
   "cell_type": "code",
   "execution_count": null,
   "metadata": {},
   "outputs": [],
   "source": []
  },
  {
   "cell_type": "code",
   "execution_count": null,
   "metadata": {},
   "outputs": [],
   "source": []
  },
  {
   "cell_type": "code",
   "execution_count": null,
   "metadata": {},
   "outputs": [],
   "source": []
  },
  {
   "cell_type": "code",
   "execution_count": null,
   "metadata": {},
   "outputs": [],
   "source": []
  },
  {
   "cell_type": "code",
   "execution_count": null,
   "metadata": {},
   "outputs": [],
   "source": []
  },
  {
   "cell_type": "code",
   "execution_count": null,
   "metadata": {},
   "outputs": [],
   "source": []
  },
  {
   "cell_type": "code",
   "execution_count": null,
   "metadata": {},
   "outputs": [],
   "source": []
  },
  {
   "cell_type": "code",
   "execution_count": null,
   "metadata": {},
   "outputs": [],
   "source": []
  },
  {
   "cell_type": "code",
   "execution_count": null,
   "metadata": {},
   "outputs": [],
   "source": []
  },
  {
   "cell_type": "code",
   "execution_count": null,
   "metadata": {},
   "outputs": [],
   "source": []
  },
  {
   "cell_type": "code",
   "execution_count": null,
   "metadata": {},
   "outputs": [],
   "source": []
  },
  {
   "cell_type": "code",
   "execution_count": null,
   "metadata": {},
   "outputs": [],
   "source": []
  },
  {
   "cell_type": "code",
   "execution_count": null,
   "metadata": {},
   "outputs": [],
   "source": []
  },
  {
   "cell_type": "code",
   "execution_count": null,
   "metadata": {},
   "outputs": [],
   "source": []
  },
  {
   "cell_type": "code",
   "execution_count": null,
   "metadata": {},
   "outputs": [],
   "source": []
  },
  {
   "cell_type": "code",
   "execution_count": null,
   "metadata": {},
   "outputs": [],
   "source": []
  },
  {
   "cell_type": "code",
   "execution_count": null,
   "metadata": {},
   "outputs": [],
   "source": []
  }
 ],
 "metadata": {
  "kernelspec": {
   "display_name": "Python 3.10.4 ('yahoo_data.venv': venv)",
   "language": "python",
   "name": "python3"
  },
  "language_info": {
   "codemirror_mode": {
    "name": "ipython",
    "version": 3
   },
   "file_extension": ".py",
   "mimetype": "text/x-python",
   "name": "python",
   "nbconvert_exporter": "python",
   "pygments_lexer": "ipython3",
   "version": "3.10.4"
  },
  "orig_nbformat": 4,
  "vscode": {
   "interpreter": {
    "hash": "b5c43157472adecc608398212703a0dd003f122fa8c3d39eaca8de5be4578d47"
   }
  }
 },
 "nbformat": 4,
 "nbformat_minor": 2
}
