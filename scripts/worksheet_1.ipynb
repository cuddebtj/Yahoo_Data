{
 "cells": [
  {
   "cell_type": "code",
   "execution_count": null,
   "metadata": {},
   "outputs": [],
   "source": [
    "import pandas as pd\n",
    "import numpy as np\n",
    "import yaml\n",
    "from pathlib import Path\n",
    "\n",
    "from db_psql_model import DatabaseCursor\n",
    "from utils import get_season, nfl_weeks_pull, game_keys_pull\n",
    "from yahoo_query import league_season_data\n",
    "\n",
    "pd.set_option(\"display.max_columns\", 999)\n",
    "\n",
    "# TODAY = np.datetime64(\"today\", \"D\")\n",
    "TODAY = np.datetime64(\"2021-09-28\")\n",
    "# TODAY = np.datetime64(\"2020-09-28\")\n",
    "# TODAY = np.datetime64(\"2019-09-28\")\n",
    "# TODAY = np.datetime64(\"2018-09-28\")\n",
    "# TODAY = np.datetime64(\"2017-09-28\")\n",
    "# TODAY = np.datetime64(\"2016-09-28\")\n",
    "# TODAY = np.datetime64(\"2015-09-28\")\n",
    "# TODAY = np.datetime64(\"2014-09-28\")\n",
    "# TODAY = np.datetime64(\"2013-09-28\")\n",
    "# TODAY = np.datetime64(\"2012-09-28\")\n",
    "\n",
    "PATH = list(Path().cwd().parent.glob(\"**/private.yaml\"))[0]\n",
    "NFL_WEEKS = nfl_weeks_pull()\n",
    "GAME_KEYS = game_keys_pull(first=\"no\")\n",
    "# SEASON = get_season()\n",
    "SEASON = TODAY.astype(\"datetime64[Y]\").item().year\n",
    "LEAGUE_ID = GAME_KEYS[GAME_KEYS[\"season\"] == SEASON][\"league_ID\"].values[0]\n",
    "GAME_ID = GAME_KEYS[GAME_KEYS[\"season\"] == SEASON][\"game_id\"].values[0]\n",
    "nfl_weeks_list = list(NFL_WEEKS[\"week\"][NFL_WEEKS[\"game_id\"] == GAME_ID])\n",
    "\n",
    "try:\n",
    "    with open(PATH) as file:\n",
    "        credentials = yaml.load(file, Loader=yaml.FullLoader)\n",
    "\n",
    "except Exception as error:\n",
    "    print(error)\n",
    "\n",
    "CONSUMER_KEY = credentials[\"YFPY_CONSUMER_KEY\"]\n",
    "CONSUMER_SECRET = credentials[\"YFPY_CONSUMER_SECRET\"]\n",
    "\n",
    "league = league_season_data(\n",
    "    auth_dir=PATH.parent,\n",
    "    league_id=LEAGUE_ID,\n",
    "    game_id=GAME_ID,\n",
    "    game_code=\"nfl\",\n",
    "    offline=False,\n",
    "    all_output_as_json=False,\n",
    "    consumer_key=CONSUMER_KEY,\n",
    "    consumer_secret=CONSUMER_SECRET,\n",
    "    browser_callback=True,\n",
    ")\n",
    "\n",
    "# game_keys = league.all_game_keys()\n",
    "# nfl_weeks = league.all_nfl_weeks()\n",
    "\n",
    "# meta = league.metadata(first_time=first_time)\n",
    "# settings, roster, stat_cat = league.set_roster_pos_stat_cat(first_time=first_time)\n",
    "# draft = league.draft_results(first_time=first_time)\n",
    "# teams = league.teams_and_standings(first_time=\"no\")\n",
    "\n",
    "league.matchups_by_week_regseason(first_time='yes', nfl_week=1)\n",
    "for week in nfl_weeks_list[1:-1]:\n",
    "    league.matchups_by_week_regseason(first_time='no', nfl_week=week)\n",
    "\n",
    "# players = league.players_list(first_time=\"no\")\n",
    "\n",
    "league.team_roster_by_week(first_time='yes', nfl_week=1)\n",
    "for week in nfl_weeks_list[1:-1]:\n",
    "    league.team_roster_by_week(first_time='no', nfl_week=week)"
   ]
  },
  {
   "cell_type": "code",
   "execution_count": null,
   "metadata": {},
   "outputs": [],
   "source": [
    "# cur = DatabaseCursor(PATH / \"private.yaml\", options=\"-c search_path=dev\")\n",
    "# df = pd.read_csv(PATH / \"assests\" / \"game_keys.csv\")\n",
    "# cur.copy_table_to_postgres_new(df, \"test\", \"no\")"
   ]
  },
  {
   "cell_type": "code",
   "execution_count": null,
   "metadata": {},
   "outputs": [],
   "source": [
    "# sql_query = \"\"\"\n",
    "# SELECT *\n",
    "# FROM dev.test\n",
    "# \"\"\"\n",
    "# db_cursor = DatabaseCursor(PATH / \"private.yaml\", options=\"-c search_path=dev\")\n",
    "# db_cursor.copy_data_from_postgres(sql_query)"
   ]
  },
  {
   "cell_type": "code",
   "execution_count": 16,
   "metadata": {},
   "outputs": [],
   "source": [
    "import pandas as pd\n",
    "import numpy as np\n",
    "import logging\n",
    "import yaml\n",
    "from pathlib import Path\n",
    "from yfpy import YahooFantasySportsQuery\n",
    "from yfpy.utils import complex_json_handler, unpack_data\n",
    "from yfpy import get_logger\n",
    "\n",
    "from db_psql_model import DatabaseCursor\n",
    "\n",
    "PATH = list(Path().cwd().parent.glob(\"**/private.yaml\"))[0]\n",
    "TEAMS_FILE = list(Path().cwd().parent.glob(\"**/teams.yaml\"))[0]\n",
    "\n",
    "with open(PATH) as file:\n",
    "    credentials = yaml.load(file, Loader=yaml.FullLoader)\n",
    "\n",
    "LOGGET = get_logger(__name__)\n",
    "LOG_OUTPUT = False\n",
    "logging.getLogger(\"yfpy.query\").setLevel(level=logging.INFO)\n",
    "\n",
    "consumer_key = credentials['YFPY_CONSUMER_KEY']\n",
    "consumer_secret = credentials['YFPY_CONSUMER_SECRET']\n",
    "\n",
    "yahoo_query = YahooFantasySportsQuery(\n",
    "    auth_dir='',\n",
    "    league_id='103661',\n",
    "    game_id='406',\n",
    "    game_code='nfl',\n",
    "    consumer_key=consumer_key,\n",
    "    consumer_secret=consumer_secret,\n",
    ")"
   ]
  },
  {
   "cell_type": "code",
   "execution_count": null,
   "metadata": {},
   "outputs": [
    {
     "ename": "TypeError",
     "evalue": "Object of type <class 'dict'> with value of {'team_points': {\n  \"coverage_type\": \"week\",\n  \"total\": 130.7,\n  \"week\": 17\n}, 'team_projected_points': {\n  \"coverage_type\": \"week\",\n  \"total\": 125.13,\n  \"week\": 17\n}} is not JSON serializable",
     "output_type": "error",
     "traceback": [
      "\u001b[0;31m---------------------------------------------------------------------------\u001b[0m",
      "\u001b[0;31mTypeError\u001b[0m                                 Traceback (most recent call last)",
      "File \u001b[0;32m~/Documents/Python/Yahoo_Data/yahoo_data.venv/lib/python3.10/site-packages/yfpy/utils.py:281\u001b[0m, in \u001b[0;36mcomplex_json_handler\u001b[0;34m(obj)\u001b[0m\n\u001b[1;32m    280\u001b[0m \u001b[39mtry\u001b[39;00m:\n\u001b[0;32m--> 281\u001b[0m     \u001b[39mreturn\u001b[39;00m \u001b[39mstr\u001b[39;49m(obj, \u001b[39m\"\u001b[39;49m\u001b[39mutf-8\u001b[39;49m\u001b[39m\"\u001b[39;49m)\n\u001b[1;32m    282\u001b[0m \u001b[39mexcept\u001b[39;00m \u001b[39mTypeError\u001b[39;00m:\n",
      "\u001b[0;31mTypeError\u001b[0m: decoding to str: need a bytes-like object, dict found",
      "\nDuring handling of the above exception, another exception occurred:\n",
      "\u001b[0;31mTypeError\u001b[0m                                 Traceback (most recent call last)",
      "\u001b[1;32m/home/cuddebtj/Documents/Python/Yahoo_Data/scripts/worksheet_1.ipynb Cell 5\u001b[0m in \u001b[0;36m<cell line: 1>\u001b[0;34m()\u001b[0m\n\u001b[0;32m----> <a href='vscode-notebook-cell://ssh-remote%2B192.168.1.31/home/cuddebtj/Documents/Python/Yahoo_Data/scripts/worksheet_1.ipynb#ch0000005vscode-remote?line=0'>1</a>\u001b[0m complex_json_handler(yahoo_query\u001b[39m.\u001b[39;49mget_team_stats_by_week(\u001b[39m1\u001b[39;49m, \u001b[39m17\u001b[39;49m))\n",
      "File \u001b[0;32m~/Documents/Python/Yahoo_Data/yahoo_data.venv/lib/python3.10/site-packages/yfpy/utils.py:283\u001b[0m, in \u001b[0;36mcomplex_json_handler\u001b[0;34m(obj)\u001b[0m\n\u001b[1;32m    281\u001b[0m     \u001b[39mreturn\u001b[39;00m \u001b[39mstr\u001b[39m(obj, \u001b[39m\"\u001b[39m\u001b[39mutf-8\u001b[39m\u001b[39m\"\u001b[39m)\n\u001b[1;32m    282\u001b[0m \u001b[39mexcept\u001b[39;00m \u001b[39mTypeError\u001b[39;00m:\n\u001b[0;32m--> 283\u001b[0m     \u001b[39mraise\u001b[39;00m \u001b[39mTypeError\u001b[39;00m(\u001b[39m'\u001b[39m\u001b[39mObject of type \u001b[39m\u001b[39m%s\u001b[39;00m\u001b[39m with value of \u001b[39m\u001b[39m%s\u001b[39;00m\u001b[39m is not JSON serializable\u001b[39m\u001b[39m'\u001b[39m \u001b[39m%\u001b[39m (\u001b[39mtype\u001b[39m(obj), \u001b[39mrepr\u001b[39m(obj)))\n",
      "\u001b[0;31mTypeError\u001b[0m: Object of type <class 'dict'> with value of {'team_points': {\n  \"coverage_type\": \"week\",\n  \"total\": 130.7,\n  \"week\": 17\n}, 'team_projected_points': {\n  \"coverage_type\": \"week\",\n  \"total\": 125.13,\n  \"week\": 17\n}} is not JSON serializable"
     ]
    }
   ],
   "source": [
    "data = yahoo_query.get_team_stats_by_week(1, 17)"
   ]
  },
  {
   "cell_type": "code",
   "execution_count": null,
   "metadata": {},
   "outputs": [],
   "source": []
  },
  {
   "cell_type": "code",
   "execution_count": null,
   "metadata": {},
   "outputs": [],
   "source": []
  },
  {
   "cell_type": "code",
   "execution_count": null,
   "metadata": {},
   "outputs": [],
   "source": []
  },
  {
   "cell_type": "code",
   "execution_count": null,
   "metadata": {},
   "outputs": [],
   "source": []
  },
  {
   "cell_type": "code",
   "execution_count": null,
   "metadata": {},
   "outputs": [],
   "source": []
  },
  {
   "cell_type": "code",
   "execution_count": null,
   "metadata": {},
   "outputs": [],
   "source": []
  },
  {
   "cell_type": "code",
   "execution_count": null,
   "metadata": {},
   "outputs": [],
   "source": []
  },
  {
   "cell_type": "code",
   "execution_count": null,
   "metadata": {},
   "outputs": [],
   "source": []
  },
  {
   "cell_type": "code",
   "execution_count": null,
   "metadata": {},
   "outputs": [],
   "source": []
  },
  {
   "cell_type": "code",
   "execution_count": null,
   "metadata": {},
   "outputs": [],
   "source": []
  },
  {
   "cell_type": "code",
   "execution_count": null,
   "metadata": {},
   "outputs": [],
   "source": []
  },
  {
   "cell_type": "code",
   "execution_count": null,
   "metadata": {},
   "outputs": [],
   "source": []
  },
  {
   "cell_type": "code",
   "execution_count": null,
   "metadata": {},
   "outputs": [],
   "source": []
  },
  {
   "cell_type": "code",
   "execution_count": null,
   "metadata": {},
   "outputs": [],
   "source": []
  },
  {
   "cell_type": "code",
   "execution_count": null,
   "metadata": {},
   "outputs": [],
   "source": []
  },
  {
   "cell_type": "code",
   "execution_count": null,
   "metadata": {},
   "outputs": [],
   "source": []
  },
  {
   "cell_type": "code",
   "execution_count": null,
   "metadata": {},
   "outputs": [],
   "source": []
  },
  {
   "cell_type": "code",
   "execution_count": null,
   "metadata": {},
   "outputs": [],
   "source": []
  }
 ],
 "metadata": {
  "kernelspec": {
   "display_name": "Python 3.10.4 ('yahoo_data.venv': venv)",
   "language": "python",
   "name": "python3"
  },
  "language_info": {
   "codemirror_mode": {
    "name": "ipython",
    "version": 3
   },
   "file_extension": ".py",
   "mimetype": "text/x-python",
   "name": "python",
   "nbconvert_exporter": "python",
   "pygments_lexer": "ipython3",
   "version": "3.10.4"
  },
  "orig_nbformat": 4,
  "vscode": {
   "interpreter": {
    "hash": "b5c43157472adecc608398212703a0dd003f122fa8c3d39eaca8de5be4578d47"
   }
  }
 },
 "nbformat": 4,
 "nbformat_minor": 2
}
