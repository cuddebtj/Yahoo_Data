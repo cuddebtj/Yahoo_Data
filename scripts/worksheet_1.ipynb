{
 "cells": [
  {
   "cell_type": "code",
   "execution_count": 1,
   "metadata": {},
   "outputs": [
    {
     "name": "stderr",
     "output_type": "stream",
     "text": [
      "[2022-07-15 22:22:30,006 DEBUG] [sqlalchemy.pool.impl.QueuePool.base.__connect] Created new connection <connection object at 0x7fb63b34ee80; dsn: 'user=cuddebtj password=xxx dbname=MenOfMadison host=localhost options='-c search_path=prod'', closed: 0>\n",
      "[2022-07-15 22:22:30,008 INFO] [sqlalchemy.engine.Engine.base._execute_context] select pg_catalog.version()\n",
      "[2022-07-15 22:22:30,008 INFO] [sqlalchemy.engine.Engine.base._execute_context] [raw sql] {}\n",
      "[2022-07-15 22:22:30,009 DEBUG] [sqlalchemy.engine.Engine.cursor._init_metadata] Col ('version',)\n",
      "[2022-07-15 22:22:30,010 DEBUG] [sqlalchemy.engine.Engine.cursor.log_row] Row ('PostgreSQL 14.4 (Ubuntu 14.4-0ubuntu0.22.04.1) on x86_64-pc-linux-gnu, compiled by gcc (Ubuntu 11.2.0-19ubuntu1) 11.2.0, 64-bit',)\n",
      "[2022-07-15 22:22:30,011 INFO] [sqlalchemy.engine.Engine.base._execute_context] select current_schema()\n",
      "[2022-07-15 22:22:30,011 INFO] [sqlalchemy.engine.Engine.base._execute_context] [raw sql] {}\n",
      "[2022-07-15 22:22:30,012 DEBUG] [sqlalchemy.engine.Engine.cursor._init_metadata] Col ('current_schema',)\n",
      "[2022-07-15 22:22:30,012 DEBUG] [sqlalchemy.engine.Engine.cursor.log_row] Row ('prod',)\n",
      "[2022-07-15 22:22:30,013 INFO] [sqlalchemy.engine.Engine.base._execute_context] show standard_conforming_strings\n",
      "[2022-07-15 22:22:30,013 INFO] [sqlalchemy.engine.Engine.base._execute_context] [raw sql] {}\n",
      "[2022-07-15 22:22:30,013 DEBUG] [sqlalchemy.engine.Engine.cursor._init_metadata] Col ('standard_conforming_strings',)\n",
      "[2022-07-15 22:22:30,014 DEBUG] [sqlalchemy.engine.Engine.cursor.log_row] Row ('on',)\n",
      "[2022-07-15 22:22:30,014 DEBUG] [sqlalchemy.pool.impl.QueuePool.base.checkout] Connection <connection object at 0x7fb63b34ee80; dsn: 'user=cuddebtj password=xxx dbname=MenOfMadison host=localhost options='-c search_path=prod'', closed: 0> checked out from pool\n",
      "[2022-07-15 22:22:30,017 DEBUG] [sqlalchemy.pool.impl.QueuePool.base._finalize_fairy] Connection <connection object at 0x7fb63b34ee80; dsn: 'user=cuddebtj password=xxx dbname=MenOfMadison host=localhost options='-c search_path=prod'', closed: 0> being returned to pool\n",
      "[2022-07-15 22:22:30,018 DEBUG] [sqlalchemy.pool.impl.QueuePool.base._reset] Connection <connection object at 0x7fb63b34ee80; dsn: 'user=cuddebtj password=xxx dbname=MenOfMadison host=localhost options='-c search_path=prod'', closed: 0> rollback-on-return\n",
      "[2022-07-15 22:22:30,028 DEBUG] [sqlalchemy.pool.impl.QueuePool.base.__connect] Created new connection <connection object at 0x7fb63b34efc0; dsn: 'user=cuddebtj password=xxx dbname=MenOfMadison host=localhost options='-c search_path=prod'', closed: 0>\n",
      "[2022-07-15 22:22:30,029 INFO] [sqlalchemy.engine.Engine.base._execute_context] select pg_catalog.version()\n",
      "[2022-07-15 22:22:30,030 INFO] [sqlalchemy.engine.Engine.base._execute_context] [raw sql] {}\n",
      "[2022-07-15 22:22:30,030 DEBUG] [sqlalchemy.engine.Engine.cursor._init_metadata] Col ('version',)\n",
      "[2022-07-15 22:22:30,031 DEBUG] [sqlalchemy.engine.Engine.cursor.log_row] Row ('PostgreSQL 14.4 (Ubuntu 14.4-0ubuntu0.22.04.1) on x86_64-pc-linux-gnu, compiled by gcc (Ubuntu 11.2.0-19ubuntu1) 11.2.0, 64-bit',)\n",
      "[2022-07-15 22:22:30,031 INFO] [sqlalchemy.engine.Engine.base._execute_context] select current_schema()\n",
      "[2022-07-15 22:22:30,032 INFO] [sqlalchemy.engine.Engine.base._execute_context] [raw sql] {}\n",
      "[2022-07-15 22:22:30,032 DEBUG] [sqlalchemy.engine.Engine.cursor._init_metadata] Col ('current_schema',)\n",
      "[2022-07-15 22:22:30,033 DEBUG] [sqlalchemy.engine.Engine.cursor.log_row] Row ('prod',)\n",
      "[2022-07-15 22:22:30,033 INFO] [sqlalchemy.engine.Engine.base._execute_context] show standard_conforming_strings\n",
      "[2022-07-15 22:22:30,033 INFO] [sqlalchemy.engine.Engine.base._execute_context] [raw sql] {}\n",
      "[2022-07-15 22:22:30,034 DEBUG] [sqlalchemy.engine.Engine.cursor._init_metadata] Col ('standard_conforming_strings',)\n",
      "[2022-07-15 22:22:30,034 DEBUG] [sqlalchemy.engine.Engine.cursor.log_row] Row ('on',)\n",
      "[2022-07-15 22:22:30,035 DEBUG] [sqlalchemy.pool.impl.QueuePool.base.checkout] Connection <connection object at 0x7fb63b34efc0; dsn: 'user=cuddebtj password=xxx dbname=MenOfMadison host=localhost options='-c search_path=prod'', closed: 0> checked out from pool\n",
      "[2022-07-15 22:22:30,038 DEBUG] [sqlalchemy.pool.impl.QueuePool.base._finalize_fairy] Connection <connection object at 0x7fb63b34efc0; dsn: 'user=cuddebtj password=xxx dbname=MenOfMadison host=localhost options='-c search_path=prod'', closed: 0> being returned to pool\n",
      "[2022-07-15 22:22:30,038 DEBUG] [sqlalchemy.pool.impl.QueuePool.base._reset] Connection <connection object at 0x7fb63b34efc0; dsn: 'user=cuddebtj password=xxx dbname=MenOfMadison host=localhost options='-c search_path=prod'', closed: 0> rollback-on-return\n",
      "[2022-07-15 22:22:30,050 DEBUG] [sqlalchemy.pool.impl.QueuePool.base.__connect] Created new connection <connection object at 0x7fb63b34fd80; dsn: 'user=cuddebtj password=xxx dbname=MenOfMadison host=localhost options='-c search_path=dev'', closed: 0>\n",
      "[2022-07-15 22:22:30,051 INFO] [sqlalchemy.engine.Engine.base._execute_context] select pg_catalog.version()\n",
      "[2022-07-15 22:22:30,052 INFO] [sqlalchemy.engine.Engine.base._execute_context] [raw sql] {}\n",
      "[2022-07-15 22:22:30,053 DEBUG] [sqlalchemy.engine.Engine.cursor._init_metadata] Col ('version',)\n",
      "[2022-07-15 22:22:30,053 DEBUG] [sqlalchemy.engine.Engine.cursor.log_row] Row ('PostgreSQL 14.4 (Ubuntu 14.4-0ubuntu0.22.04.1) on x86_64-pc-linux-gnu, compiled by gcc (Ubuntu 11.2.0-19ubuntu1) 11.2.0, 64-bit',)\n",
      "[2022-07-15 22:22:30,054 INFO] [sqlalchemy.engine.Engine.base._execute_context] select current_schema()\n",
      "[2022-07-15 22:22:30,054 INFO] [sqlalchemy.engine.Engine.base._execute_context] [raw sql] {}\n",
      "[2022-07-15 22:22:30,055 DEBUG] [sqlalchemy.engine.Engine.cursor._init_metadata] Col ('current_schema',)\n",
      "[2022-07-15 22:22:30,055 DEBUG] [sqlalchemy.engine.Engine.cursor.log_row] Row ('dev',)\n",
      "[2022-07-15 22:22:30,056 INFO] [sqlalchemy.engine.Engine.base._execute_context] show standard_conforming_strings\n",
      "[2022-07-15 22:22:30,056 INFO] [sqlalchemy.engine.Engine.base._execute_context] [raw sql] {}\n",
      "[2022-07-15 22:22:30,057 DEBUG] [sqlalchemy.engine.Engine.cursor._init_metadata] Col ('standard_conforming_strings',)\n",
      "[2022-07-15 22:22:30,057 DEBUG] [sqlalchemy.engine.Engine.cursor.log_row] Row ('on',)\n",
      "[2022-07-15 22:22:30,058 DEBUG] [sqlalchemy.pool.impl.QueuePool.base.checkout] Connection <connection object at 0x7fb63b34fd80; dsn: 'user=cuddebtj password=xxx dbname=MenOfMadison host=localhost options='-c search_path=dev'', closed: 0> checked out from pool\n",
      "[2022-07-15 22:22:30,060 DEBUG] [sqlalchemy.pool.impl.QueuePool.base._finalize_fairy] Connection <connection object at 0x7fb63b34fd80; dsn: 'user=cuddebtj password=xxx dbname=MenOfMadison host=localhost options='-c search_path=dev'', closed: 0> being returned to pool\n",
      "[2022-07-15 22:22:30,060 DEBUG] [sqlalchemy.pool.impl.QueuePool.base._reset] Connection <connection object at 0x7fb63b34fd80; dsn: 'user=cuddebtj password=xxx dbname=MenOfMadison host=localhost options='-c search_path=dev'', closed: 0> rollback-on-return\n"
     ]
    },
    {
     "name": "stdout",
     "output_type": "stream",
     "text": [
      "Successfully pulled: SELECT * FROM prod.nflweeks\n",
      "Successfully pulled: SELECT * FROM prod.gamekeys\n",
      "Successfully pulled: SELECT team_id FROM dev.leagueteams WHERE game_id = '406'\n"
     ]
    },
    {
     "name": "stderr",
     "output_type": "stream",
     "text": [
      "[2022-07-15 22:22:35,315 DEBUG] [sqlalchemy.pool.impl.QueuePool.base.__connect] Created new connection <connection object at 0x7fb63b34f4c0; dsn: 'user=cuddebtj password=xxx dbname=MenOfMadison host=localhost options='-c search_path=dev'', closed: 0>\n",
      "[2022-07-15 22:22:35,317 INFO] [sqlalchemy.engine.Engine.base._execute_context] select pg_catalog.version()\n",
      "[2022-07-15 22:22:35,317 INFO] [sqlalchemy.engine.Engine.base._execute_context] [raw sql] {}\n",
      "[2022-07-15 22:22:35,318 DEBUG] [sqlalchemy.engine.Engine.cursor._init_metadata] Col ('version',)\n",
      "[2022-07-15 22:22:35,319 DEBUG] [sqlalchemy.engine.Engine.cursor.log_row] Row ('PostgreSQL 14.4 (Ubuntu 14.4-0ubuntu0.22.04.1) on x86_64-pc-linux-gnu, compiled by gcc (Ubuntu 11.2.0-19ubuntu1) 11.2.0, 64-bit',)\n",
      "[2022-07-15 22:22:35,319 INFO] [sqlalchemy.engine.Engine.base._execute_context] select current_schema()\n",
      "[2022-07-15 22:22:35,319 INFO] [sqlalchemy.engine.Engine.base._execute_context] [raw sql] {}\n",
      "[2022-07-15 22:22:35,320 DEBUG] [sqlalchemy.engine.Engine.cursor._init_metadata] Col ('current_schema',)\n",
      "[2022-07-15 22:22:35,321 DEBUG] [sqlalchemy.engine.Engine.cursor.log_row] Row ('dev',)\n",
      "[2022-07-15 22:22:35,321 INFO] [sqlalchemy.engine.Engine.base._execute_context] show standard_conforming_strings\n",
      "[2022-07-15 22:22:35,322 INFO] [sqlalchemy.engine.Engine.base._execute_context] [raw sql] {}\n",
      "[2022-07-15 22:22:35,322 DEBUG] [sqlalchemy.engine.Engine.cursor._init_metadata] Col ('standard_conforming_strings',)\n",
      "[2022-07-15 22:22:35,323 DEBUG] [sqlalchemy.engine.Engine.cursor.log_row] Row ('on',)\n",
      "[2022-07-15 22:22:35,323 DEBUG] [sqlalchemy.pool.impl.QueuePool.base.checkout] Connection <connection object at 0x7fb63b34f4c0; dsn: 'user=cuddebtj password=xxx dbname=MenOfMadison host=localhost options='-c search_path=dev'', closed: 0> checked out from pool\n",
      "[2022-07-15 22:22:35,325 DEBUG] [sqlalchemy.pool.impl.QueuePool.base._finalize_fairy] Connection <connection object at 0x7fb63b34f4c0; dsn: 'user=cuddebtj password=xxx dbname=MenOfMadison host=localhost options='-c search_path=dev'', closed: 0> being returned to pool\n",
      "[2022-07-15 22:22:35,326 DEBUG] [sqlalchemy.pool.impl.QueuePool.base._reset] Connection <connection object at 0x7fb63b34f4c0; dsn: 'user=cuddebtj password=xxx dbname=MenOfMadison host=localhost options='-c search_path=dev'', closed: 0> rollback-on-return\n"
     ]
    },
    {
     "name": "stdout",
     "output_type": "stream",
     "text": [
      "Successfully pulled: SELECT team_id FROM dev.leagueteams WHERE game_id = '406'\n"
     ]
    },
    {
     "name": "stderr",
     "output_type": "stream",
     "text": [
      "[2022-07-15 22:22:43,004 DEBUG] [sqlalchemy.pool.impl.QueuePool.base.__connect] Created new connection <connection object at 0x7fb63a3cc040; dsn: 'user=cuddebtj password=xxx dbname=MenOfMadison host=localhost options='-c search_path=dev'', closed: 0>\n",
      "[2022-07-15 22:22:43,006 INFO] [sqlalchemy.engine.Engine.base._execute_context] select pg_catalog.version()\n",
      "[2022-07-15 22:22:43,006 INFO] [sqlalchemy.engine.Engine.base._execute_context] [raw sql] {}\n",
      "[2022-07-15 22:22:43,007 DEBUG] [sqlalchemy.engine.Engine.cursor._init_metadata] Col ('version',)\n",
      "[2022-07-15 22:22:43,008 DEBUG] [sqlalchemy.engine.Engine.cursor.log_row] Row ('PostgreSQL 14.4 (Ubuntu 14.4-0ubuntu0.22.04.1) on x86_64-pc-linux-gnu, compiled by gcc (Ubuntu 11.2.0-19ubuntu1) 11.2.0, 64-bit',)\n",
      "[2022-07-15 22:22:43,008 INFO] [sqlalchemy.engine.Engine.base._execute_context] select current_schema()\n",
      "[2022-07-15 22:22:43,009 INFO] [sqlalchemy.engine.Engine.base._execute_context] [raw sql] {}\n",
      "[2022-07-15 22:22:43,009 DEBUG] [sqlalchemy.engine.Engine.cursor._init_metadata] Col ('current_schema',)\n",
      "[2022-07-15 22:22:43,010 DEBUG] [sqlalchemy.engine.Engine.cursor.log_row] Row ('dev',)\n",
      "[2022-07-15 22:22:43,010 INFO] [sqlalchemy.engine.Engine.base._execute_context] show standard_conforming_strings\n",
      "[2022-07-15 22:22:43,011 INFO] [sqlalchemy.engine.Engine.base._execute_context] [raw sql] {}\n",
      "[2022-07-15 22:22:43,011 DEBUG] [sqlalchemy.engine.Engine.cursor._init_metadata] Col ('standard_conforming_strings',)\n",
      "[2022-07-15 22:22:43,012 DEBUG] [sqlalchemy.engine.Engine.cursor.log_row] Row ('on',)\n",
      "[2022-07-15 22:22:43,012 DEBUG] [sqlalchemy.pool.impl.QueuePool.base.checkout] Connection <connection object at 0x7fb63a3cc040; dsn: 'user=cuddebtj password=xxx dbname=MenOfMadison host=localhost options='-c search_path=dev'', closed: 0> checked out from pool\n",
      "[2022-07-15 22:22:43,014 DEBUG] [sqlalchemy.pool.impl.QueuePool.base._finalize_fairy] Connection <connection object at 0x7fb63a3cc040; dsn: 'user=cuddebtj password=xxx dbname=MenOfMadison host=localhost options='-c search_path=dev'', closed: 0> being returned to pool\n",
      "[2022-07-15 22:22:43,015 DEBUG] [sqlalchemy.pool.impl.QueuePool.base._reset] Connection <connection object at 0x7fb63a3cc040; dsn: 'user=cuddebtj password=xxx dbname=MenOfMadison host=localhost options='-c search_path=dev'', closed: 0> rollback-on-return\n"
     ]
    },
    {
     "name": "stdout",
     "output_type": "stream",
     "text": [
      "Successfully pulled: SELECT team_id FROM dev.leagueteams WHERE game_id = '406'\n"
     ]
    },
    {
     "name": "stderr",
     "output_type": "stream",
     "text": [
      "[2022-07-15 22:22:49,333 DEBUG] [sqlalchemy.pool.impl.QueuePool.base.__connect] Created new connection <connection object at 0x7fb63b34f4c0; dsn: 'user=cuddebtj password=xxx dbname=MenOfMadison host=localhost options='-c search_path=dev'', closed: 0>\n",
      "[2022-07-15 22:22:49,335 INFO] [sqlalchemy.engine.Engine.base._execute_context] select pg_catalog.version()\n",
      "[2022-07-15 22:22:49,335 INFO] [sqlalchemy.engine.Engine.base._execute_context] [raw sql] {}\n",
      "[2022-07-15 22:22:49,336 DEBUG] [sqlalchemy.engine.Engine.cursor._init_metadata] Col ('version',)\n",
      "[2022-07-15 22:22:49,336 DEBUG] [sqlalchemy.engine.Engine.cursor.log_row] Row ('PostgreSQL 14.4 (Ubuntu 14.4-0ubuntu0.22.04.1) on x86_64-pc-linux-gnu, compiled by gcc (Ubuntu 11.2.0-19ubuntu1) 11.2.0, 64-bit',)\n",
      "[2022-07-15 22:22:49,337 INFO] [sqlalchemy.engine.Engine.base._execute_context] select current_schema()\n",
      "[2022-07-15 22:22:49,337 INFO] [sqlalchemy.engine.Engine.base._execute_context] [raw sql] {}\n",
      "[2022-07-15 22:22:49,338 DEBUG] [sqlalchemy.engine.Engine.cursor._init_metadata] Col ('current_schema',)\n",
      "[2022-07-15 22:22:49,338 DEBUG] [sqlalchemy.engine.Engine.cursor.log_row] Row ('dev',)\n",
      "[2022-07-15 22:22:49,339 INFO] [sqlalchemy.engine.Engine.base._execute_context] show standard_conforming_strings\n",
      "[2022-07-15 22:22:49,340 INFO] [sqlalchemy.engine.Engine.base._execute_context] [raw sql] {}\n",
      "[2022-07-15 22:22:49,340 DEBUG] [sqlalchemy.engine.Engine.cursor._init_metadata] Col ('standard_conforming_strings',)\n",
      "[2022-07-15 22:22:49,341 DEBUG] [sqlalchemy.engine.Engine.cursor.log_row] Row ('on',)\n",
      "[2022-07-15 22:22:49,341 DEBUG] [sqlalchemy.pool.impl.QueuePool.base.checkout] Connection <connection object at 0x7fb63b34f4c0; dsn: 'user=cuddebtj password=xxx dbname=MenOfMadison host=localhost options='-c search_path=dev'', closed: 0> checked out from pool\n",
      "[2022-07-15 22:22:49,343 DEBUG] [sqlalchemy.pool.impl.QueuePool.base._finalize_fairy] Connection <connection object at 0x7fb63b34f4c0; dsn: 'user=cuddebtj password=xxx dbname=MenOfMadison host=localhost options='-c search_path=dev'', closed: 0> being returned to pool\n",
      "[2022-07-15 22:22:49,344 DEBUG] [sqlalchemy.pool.impl.QueuePool.base._reset] Connection <connection object at 0x7fb63b34f4c0; dsn: 'user=cuddebtj password=xxx dbname=MenOfMadison host=localhost options='-c search_path=dev'', closed: 0> rollback-on-return\n"
     ]
    },
    {
     "name": "stdout",
     "output_type": "stream",
     "text": [
      "Successfully pulled: SELECT team_id FROM dev.leagueteams WHERE game_id = '406'\n"
     ]
    },
    {
     "name": "stderr",
     "output_type": "stream",
     "text": [
      "[2022-07-15 22:23:03,687 DEBUG] [sqlalchemy.pool.impl.QueuePool.base.__connect] Created new connection <connection object at 0x7fb63a3cc180; dsn: 'user=cuddebtj password=xxx dbname=MenOfMadison host=localhost options='-c search_path=dev'', closed: 0>\n",
      "[2022-07-15 22:23:03,689 INFO] [sqlalchemy.engine.Engine.base._execute_context] select pg_catalog.version()\n",
      "[2022-07-15 22:23:03,690 INFO] [sqlalchemy.engine.Engine.base._execute_context] [raw sql] {}\n",
      "[2022-07-15 22:23:03,691 DEBUG] [sqlalchemy.engine.Engine.cursor._init_metadata] Col ('version',)\n",
      "[2022-07-15 22:23:03,691 DEBUG] [sqlalchemy.engine.Engine.cursor.log_row] Row ('PostgreSQL 14.4 (Ubuntu 14.4-0ubuntu0.22.04.1) on x86_64-pc-linux-gnu, compiled by gcc (Ubuntu 11.2.0-19ubuntu1) 11.2.0, 64-bit',)\n",
      "[2022-07-15 22:23:03,692 INFO] [sqlalchemy.engine.Engine.base._execute_context] select current_schema()\n",
      "[2022-07-15 22:23:03,692 INFO] [sqlalchemy.engine.Engine.base._execute_context] [raw sql] {}\n",
      "[2022-07-15 22:23:03,693 DEBUG] [sqlalchemy.engine.Engine.cursor._init_metadata] Col ('current_schema',)\n",
      "[2022-07-15 22:23:03,693 DEBUG] [sqlalchemy.engine.Engine.cursor.log_row] Row ('dev',)\n",
      "[2022-07-15 22:23:03,693 INFO] [sqlalchemy.engine.Engine.base._execute_context] show standard_conforming_strings\n",
      "[2022-07-15 22:23:03,694 INFO] [sqlalchemy.engine.Engine.base._execute_context] [raw sql] {}\n",
      "[2022-07-15 22:23:03,694 DEBUG] [sqlalchemy.engine.Engine.cursor._init_metadata] Col ('standard_conforming_strings',)\n",
      "[2022-07-15 22:23:03,695 DEBUG] [sqlalchemy.engine.Engine.cursor.log_row] Row ('on',)\n",
      "[2022-07-15 22:23:03,696 DEBUG] [sqlalchemy.pool.impl.QueuePool.base.checkout] Connection <connection object at 0x7fb63a3cc180; dsn: 'user=cuddebtj password=xxx dbname=MenOfMadison host=localhost options='-c search_path=dev'', closed: 0> checked out from pool\n",
      "[2022-07-15 22:23:03,697 DEBUG] [sqlalchemy.pool.impl.QueuePool.base._finalize_fairy] Connection <connection object at 0x7fb63a3cc180; dsn: 'user=cuddebtj password=xxx dbname=MenOfMadison host=localhost options='-c search_path=dev'', closed: 0> being returned to pool\n",
      "[2022-07-15 22:23:03,698 DEBUG] [sqlalchemy.pool.impl.QueuePool.base._reset] Connection <connection object at 0x7fb63a3cc180; dsn: 'user=cuddebtj password=xxx dbname=MenOfMadison host=localhost options='-c search_path=dev'', closed: 0> rollback-on-return\n"
     ]
    },
    {
     "name": "stdout",
     "output_type": "stream",
     "text": [
      "Successfully pulled: SELECT team_id FROM dev.leagueteams WHERE game_id = '406'\n"
     ]
    },
    {
     "name": "stderr",
     "output_type": "stream",
     "text": [
      "[2022-07-15 22:23:10,950 DEBUG] [sqlalchemy.pool.impl.QueuePool.base.__connect] Created new connection <connection object at 0x7fb63a3cc2c0; dsn: 'user=cuddebtj password=xxx dbname=MenOfMadison host=localhost options='-c search_path=dev'', closed: 0>\n",
      "[2022-07-15 22:23:10,952 INFO] [sqlalchemy.engine.Engine.base._execute_context] select pg_catalog.version()\n",
      "[2022-07-15 22:23:10,952 INFO] [sqlalchemy.engine.Engine.base._execute_context] [raw sql] {}\n",
      "[2022-07-15 22:23:10,953 DEBUG] [sqlalchemy.engine.Engine.cursor._init_metadata] Col ('version',)\n",
      "[2022-07-15 22:23:10,953 DEBUG] [sqlalchemy.engine.Engine.cursor.log_row] Row ('PostgreSQL 14.4 (Ubuntu 14.4-0ubuntu0.22.04.1) on x86_64-pc-linux-gnu, compiled by gcc (Ubuntu 11.2.0-19ubuntu1) 11.2.0, 64-bit',)\n",
      "[2022-07-15 22:23:10,954 INFO] [sqlalchemy.engine.Engine.base._execute_context] select current_schema()\n",
      "[2022-07-15 22:23:10,954 INFO] [sqlalchemy.engine.Engine.base._execute_context] [raw sql] {}\n",
      "[2022-07-15 22:23:10,955 DEBUG] [sqlalchemy.engine.Engine.cursor._init_metadata] Col ('current_schema',)\n",
      "[2022-07-15 22:23:10,955 DEBUG] [sqlalchemy.engine.Engine.cursor.log_row] Row ('dev',)\n",
      "[2022-07-15 22:23:10,956 INFO] [sqlalchemy.engine.Engine.base._execute_context] show standard_conforming_strings\n",
      "[2022-07-15 22:23:10,956 INFO] [sqlalchemy.engine.Engine.base._execute_context] [raw sql] {}\n",
      "[2022-07-15 22:23:10,956 DEBUG] [sqlalchemy.engine.Engine.cursor._init_metadata] Col ('standard_conforming_strings',)\n",
      "[2022-07-15 22:23:10,957 DEBUG] [sqlalchemy.engine.Engine.cursor.log_row] Row ('on',)\n",
      "[2022-07-15 22:23:10,957 DEBUG] [sqlalchemy.pool.impl.QueuePool.base.checkout] Connection <connection object at 0x7fb63a3cc2c0; dsn: 'user=cuddebtj password=xxx dbname=MenOfMadison host=localhost options='-c search_path=dev'', closed: 0> checked out from pool\n",
      "[2022-07-15 22:23:10,959 DEBUG] [sqlalchemy.pool.impl.QueuePool.base._finalize_fairy] Connection <connection object at 0x7fb63a3cc2c0; dsn: 'user=cuddebtj password=xxx dbname=MenOfMadison host=localhost options='-c search_path=dev'', closed: 0> being returned to pool\n",
      "[2022-07-15 22:23:10,959 DEBUG] [sqlalchemy.pool.impl.QueuePool.base._reset] Connection <connection object at 0x7fb63a3cc2c0; dsn: 'user=cuddebtj password=xxx dbname=MenOfMadison host=localhost options='-c search_path=dev'', closed: 0> rollback-on-return\n"
     ]
    },
    {
     "name": "stdout",
     "output_type": "stream",
     "text": [
      "Successfully pulled: SELECT team_id FROM dev.leagueteams WHERE game_id = '406'\n"
     ]
    },
    {
     "name": "stderr",
     "output_type": "stream",
     "text": [
      "[2022-07-15 22:23:15,317 DEBUG] [sqlalchemy.pool.impl.QueuePool.base.__connect] Created new connection <connection object at 0x7fb63b34f4c0; dsn: 'user=cuddebtj password=xxx dbname=MenOfMadison host=localhost options='-c search_path=dev'', closed: 0>\n",
      "[2022-07-15 22:23:15,319 INFO] [sqlalchemy.engine.Engine.base._execute_context] select pg_catalog.version()\n",
      "[2022-07-15 22:23:15,320 INFO] [sqlalchemy.engine.Engine.base._execute_context] [raw sql] {}\n",
      "[2022-07-15 22:23:15,321 DEBUG] [sqlalchemy.engine.Engine.cursor._init_metadata] Col ('version',)\n",
      "[2022-07-15 22:23:15,321 DEBUG] [sqlalchemy.engine.Engine.cursor.log_row] Row ('PostgreSQL 14.4 (Ubuntu 14.4-0ubuntu0.22.04.1) on x86_64-pc-linux-gnu, compiled by gcc (Ubuntu 11.2.0-19ubuntu1) 11.2.0, 64-bit',)\n",
      "[2022-07-15 22:23:15,322 INFO] [sqlalchemy.engine.Engine.base._execute_context] select current_schema()\n",
      "[2022-07-15 22:23:15,322 INFO] [sqlalchemy.engine.Engine.base._execute_context] [raw sql] {}\n",
      "[2022-07-15 22:23:15,322 DEBUG] [sqlalchemy.engine.Engine.cursor._init_metadata] Col ('current_schema',)\n",
      "[2022-07-15 22:23:15,323 DEBUG] [sqlalchemy.engine.Engine.cursor.log_row] Row ('dev',)\n",
      "[2022-07-15 22:23:15,323 INFO] [sqlalchemy.engine.Engine.base._execute_context] show standard_conforming_strings\n",
      "[2022-07-15 22:23:15,324 INFO] [sqlalchemy.engine.Engine.base._execute_context] [raw sql] {}\n",
      "[2022-07-15 22:23:15,324 DEBUG] [sqlalchemy.engine.Engine.cursor._init_metadata] Col ('standard_conforming_strings',)\n",
      "[2022-07-15 22:23:15,324 DEBUG] [sqlalchemy.engine.Engine.cursor.log_row] Row ('on',)\n",
      "[2022-07-15 22:23:15,325 DEBUG] [sqlalchemy.pool.impl.QueuePool.base.checkout] Connection <connection object at 0x7fb63b34f4c0; dsn: 'user=cuddebtj password=xxx dbname=MenOfMadison host=localhost options='-c search_path=dev'', closed: 0> checked out from pool\n",
      "[2022-07-15 22:23:15,327 DEBUG] [sqlalchemy.pool.impl.QueuePool.base._finalize_fairy] Connection <connection object at 0x7fb63b34f4c0; dsn: 'user=cuddebtj password=xxx dbname=MenOfMadison host=localhost options='-c search_path=dev'', closed: 0> being returned to pool\n",
      "[2022-07-15 22:23:15,327 DEBUG] [sqlalchemy.pool.impl.QueuePool.base._reset] Connection <connection object at 0x7fb63b34f4c0; dsn: 'user=cuddebtj password=xxx dbname=MenOfMadison host=localhost options='-c search_path=dev'', closed: 0> rollback-on-return\n"
     ]
    },
    {
     "name": "stdout",
     "output_type": "stream",
     "text": [
      "Successfully pulled: SELECT team_id FROM dev.leagueteams WHERE game_id = '406'\n"
     ]
    },
    {
     "name": "stderr",
     "output_type": "stream",
     "text": [
      "[2022-07-15 22:23:19,127 DEBUG] [sqlalchemy.pool.impl.QueuePool.base.__connect] Created new connection <connection object at 0x7fb63a3cc180; dsn: 'user=cuddebtj password=xxx dbname=MenOfMadison host=localhost options='-c search_path=dev'', closed: 0>\n",
      "[2022-07-15 22:23:19,129 INFO] [sqlalchemy.engine.Engine.base._execute_context] select pg_catalog.version()\n",
      "[2022-07-15 22:23:19,129 INFO] [sqlalchemy.engine.Engine.base._execute_context] [raw sql] {}\n",
      "[2022-07-15 22:23:19,130 DEBUG] [sqlalchemy.engine.Engine.cursor._init_metadata] Col ('version',)\n",
      "[2022-07-15 22:23:19,130 DEBUG] [sqlalchemy.engine.Engine.cursor.log_row] Row ('PostgreSQL 14.4 (Ubuntu 14.4-0ubuntu0.22.04.1) on x86_64-pc-linux-gnu, compiled by gcc (Ubuntu 11.2.0-19ubuntu1) 11.2.0, 64-bit',)\n",
      "[2022-07-15 22:23:19,131 INFO] [sqlalchemy.engine.Engine.base._execute_context] select current_schema()\n",
      "[2022-07-15 22:23:19,131 INFO] [sqlalchemy.engine.Engine.base._execute_context] [raw sql] {}\n",
      "[2022-07-15 22:23:19,132 DEBUG] [sqlalchemy.engine.Engine.cursor._init_metadata] Col ('current_schema',)\n",
      "[2022-07-15 22:23:19,132 DEBUG] [sqlalchemy.engine.Engine.cursor.log_row] Row ('dev',)\n",
      "[2022-07-15 22:23:19,133 INFO] [sqlalchemy.engine.Engine.base._execute_context] show standard_conforming_strings\n",
      "[2022-07-15 22:23:19,133 INFO] [sqlalchemy.engine.Engine.base._execute_context] [raw sql] {}\n",
      "[2022-07-15 22:23:19,134 DEBUG] [sqlalchemy.engine.Engine.cursor._init_metadata] Col ('standard_conforming_strings',)\n",
      "[2022-07-15 22:23:19,134 DEBUG] [sqlalchemy.engine.Engine.cursor.log_row] Row ('on',)\n",
      "[2022-07-15 22:23:19,135 DEBUG] [sqlalchemy.pool.impl.QueuePool.base.checkout] Connection <connection object at 0x7fb63a3cc180; dsn: 'user=cuddebtj password=xxx dbname=MenOfMadison host=localhost options='-c search_path=dev'', closed: 0> checked out from pool\n",
      "[2022-07-15 22:23:19,136 DEBUG] [sqlalchemy.pool.impl.QueuePool.base._finalize_fairy] Connection <connection object at 0x7fb63a3cc180; dsn: 'user=cuddebtj password=xxx dbname=MenOfMadison host=localhost options='-c search_path=dev'', closed: 0> being returned to pool\n",
      "[2022-07-15 22:23:19,137 DEBUG] [sqlalchemy.pool.impl.QueuePool.base._reset] Connection <connection object at 0x7fb63a3cc180; dsn: 'user=cuddebtj password=xxx dbname=MenOfMadison host=localhost options='-c search_path=dev'', closed: 0> rollback-on-return\n"
     ]
    },
    {
     "name": "stdout",
     "output_type": "stream",
     "text": [
      "Successfully pulled: SELECT team_id FROM dev.leagueteams WHERE game_id = '406'\n"
     ]
    },
    {
     "name": "stderr",
     "output_type": "stream",
     "text": [
      "[2022-07-15 22:23:23,524 DEBUG] [sqlalchemy.pool.impl.QueuePool.base.__connect] Created new connection <connection object at 0x7fb63a3cc400; dsn: 'user=cuddebtj password=xxx dbname=MenOfMadison host=localhost options='-c search_path=dev'', closed: 0>\n",
      "[2022-07-15 22:23:23,526 INFO] [sqlalchemy.engine.Engine.base._execute_context] select pg_catalog.version()\n",
      "[2022-07-15 22:23:23,526 INFO] [sqlalchemy.engine.Engine.base._execute_context] [raw sql] {}\n",
      "[2022-07-15 22:23:23,527 DEBUG] [sqlalchemy.engine.Engine.cursor._init_metadata] Col ('version',)\n",
      "[2022-07-15 22:23:23,528 DEBUG] [sqlalchemy.engine.Engine.cursor.log_row] Row ('PostgreSQL 14.4 (Ubuntu 14.4-0ubuntu0.22.04.1) on x86_64-pc-linux-gnu, compiled by gcc (Ubuntu 11.2.0-19ubuntu1) 11.2.0, 64-bit',)\n",
      "[2022-07-15 22:23:23,528 INFO] [sqlalchemy.engine.Engine.base._execute_context] select current_schema()\n",
      "[2022-07-15 22:23:23,528 INFO] [sqlalchemy.engine.Engine.base._execute_context] [raw sql] {}\n",
      "[2022-07-15 22:23:23,529 DEBUG] [sqlalchemy.engine.Engine.cursor._init_metadata] Col ('current_schema',)\n",
      "[2022-07-15 22:23:23,529 DEBUG] [sqlalchemy.engine.Engine.cursor.log_row] Row ('dev',)\n",
      "[2022-07-15 22:23:23,530 INFO] [sqlalchemy.engine.Engine.base._execute_context] show standard_conforming_strings\n",
      "[2022-07-15 22:23:23,530 INFO] [sqlalchemy.engine.Engine.base._execute_context] [raw sql] {}\n",
      "[2022-07-15 22:23:23,531 DEBUG] [sqlalchemy.engine.Engine.cursor._init_metadata] Col ('standard_conforming_strings',)\n",
      "[2022-07-15 22:23:23,531 DEBUG] [sqlalchemy.engine.Engine.cursor.log_row] Row ('on',)\n",
      "[2022-07-15 22:23:23,532 DEBUG] [sqlalchemy.pool.impl.QueuePool.base.checkout] Connection <connection object at 0x7fb63a3cc400; dsn: 'user=cuddebtj password=xxx dbname=MenOfMadison host=localhost options='-c search_path=dev'', closed: 0> checked out from pool\n",
      "[2022-07-15 22:23:23,533 DEBUG] [sqlalchemy.pool.impl.QueuePool.base._finalize_fairy] Connection <connection object at 0x7fb63a3cc400; dsn: 'user=cuddebtj password=xxx dbname=MenOfMadison host=localhost options='-c search_path=dev'', closed: 0> being returned to pool\n",
      "[2022-07-15 22:23:23,534 DEBUG] [sqlalchemy.pool.impl.QueuePool.base._reset] Connection <connection object at 0x7fb63a3cc400; dsn: 'user=cuddebtj password=xxx dbname=MenOfMadison host=localhost options='-c search_path=dev'', closed: 0> rollback-on-return\n"
     ]
    },
    {
     "name": "stdout",
     "output_type": "stream",
     "text": [
      "Successfully pulled: SELECT team_id FROM dev.leagueteams WHERE game_id = '406'\n"
     ]
    },
    {
     "name": "stderr",
     "output_type": "stream",
     "text": [
      "[2022-07-15 22:23:27,171 DEBUG] [sqlalchemy.pool.impl.QueuePool.base.__connect] Created new connection <connection object at 0x7fb63a3cc180; dsn: 'user=cuddebtj password=xxx dbname=MenOfMadison host=localhost options='-c search_path=dev'', closed: 0>\n",
      "[2022-07-15 22:23:27,173 INFO] [sqlalchemy.engine.Engine.base._execute_context] select pg_catalog.version()\n",
      "[2022-07-15 22:23:27,173 INFO] [sqlalchemy.engine.Engine.base._execute_context] [raw sql] {}\n",
      "[2022-07-15 22:23:27,174 DEBUG] [sqlalchemy.engine.Engine.cursor._init_metadata] Col ('version',)\n",
      "[2022-07-15 22:23:27,175 DEBUG] [sqlalchemy.engine.Engine.cursor.log_row] Row ('PostgreSQL 14.4 (Ubuntu 14.4-0ubuntu0.22.04.1) on x86_64-pc-linux-gnu, compiled by gcc (Ubuntu 11.2.0-19ubuntu1) 11.2.0, 64-bit',)\n",
      "[2022-07-15 22:23:27,175 INFO] [sqlalchemy.engine.Engine.base._execute_context] select current_schema()\n",
      "[2022-07-15 22:23:27,175 INFO] [sqlalchemy.engine.Engine.base._execute_context] [raw sql] {}\n",
      "[2022-07-15 22:23:27,176 DEBUG] [sqlalchemy.engine.Engine.cursor._init_metadata] Col ('current_schema',)\n",
      "[2022-07-15 22:23:27,176 DEBUG] [sqlalchemy.engine.Engine.cursor.log_row] Row ('dev',)\n",
      "[2022-07-15 22:23:27,177 INFO] [sqlalchemy.engine.Engine.base._execute_context] show standard_conforming_strings\n",
      "[2022-07-15 22:23:27,177 INFO] [sqlalchemy.engine.Engine.base._execute_context] [raw sql] {}\n",
      "[2022-07-15 22:23:27,178 DEBUG] [sqlalchemy.engine.Engine.cursor._init_metadata] Col ('standard_conforming_strings',)\n",
      "[2022-07-15 22:23:27,178 DEBUG] [sqlalchemy.engine.Engine.cursor.log_row] Row ('on',)\n",
      "[2022-07-15 22:23:27,179 DEBUG] [sqlalchemy.pool.impl.QueuePool.base.checkout] Connection <connection object at 0x7fb63a3cc180; dsn: 'user=cuddebtj password=xxx dbname=MenOfMadison host=localhost options='-c search_path=dev'', closed: 0> checked out from pool\n",
      "[2022-07-15 22:23:27,181 DEBUG] [sqlalchemy.pool.impl.QueuePool.base._finalize_fairy] Connection <connection object at 0x7fb63a3cc180; dsn: 'user=cuddebtj password=xxx dbname=MenOfMadison host=localhost options='-c search_path=dev'', closed: 0> being returned to pool\n",
      "[2022-07-15 22:23:27,181 DEBUG] [sqlalchemy.pool.impl.QueuePool.base._reset] Connection <connection object at 0x7fb63a3cc180; dsn: 'user=cuddebtj password=xxx dbname=MenOfMadison host=localhost options='-c search_path=dev'', closed: 0> rollback-on-return\n"
     ]
    },
    {
     "name": "stdout",
     "output_type": "stream",
     "text": [
      "Successfully pulled: SELECT team_id FROM dev.leagueteams WHERE game_id = '406'\n"
     ]
    },
    {
     "name": "stderr",
     "output_type": "stream",
     "text": [
      "[2022-07-15 22:23:30,995 DEBUG] [sqlalchemy.pool.impl.QueuePool.base.__connect] Created new connection <connection object at 0x7fb63a3cc7c0; dsn: 'user=cuddebtj password=xxx dbname=MenOfMadison host=localhost options='-c search_path=dev'', closed: 0>\n",
      "[2022-07-15 22:23:30,997 INFO] [sqlalchemy.engine.Engine.base._execute_context] select pg_catalog.version()\n",
      "[2022-07-15 22:23:30,997 INFO] [sqlalchemy.engine.Engine.base._execute_context] [raw sql] {}\n",
      "[2022-07-15 22:23:30,998 DEBUG] [sqlalchemy.engine.Engine.cursor._init_metadata] Col ('version',)\n",
      "[2022-07-15 22:23:30,999 DEBUG] [sqlalchemy.engine.Engine.cursor.log_row] Row ('PostgreSQL 14.4 (Ubuntu 14.4-0ubuntu0.22.04.1) on x86_64-pc-linux-gnu, compiled by gcc (Ubuntu 11.2.0-19ubuntu1) 11.2.0, 64-bit',)\n",
      "[2022-07-15 22:23:30,999 INFO] [sqlalchemy.engine.Engine.base._execute_context] select current_schema()\n",
      "[2022-07-15 22:23:31,000 INFO] [sqlalchemy.engine.Engine.base._execute_context] [raw sql] {}\n",
      "[2022-07-15 22:23:31,000 DEBUG] [sqlalchemy.engine.Engine.cursor._init_metadata] Col ('current_schema',)\n",
      "[2022-07-15 22:23:31,001 DEBUG] [sqlalchemy.engine.Engine.cursor.log_row] Row ('dev',)\n",
      "[2022-07-15 22:23:31,001 INFO] [sqlalchemy.engine.Engine.base._execute_context] show standard_conforming_strings\n",
      "[2022-07-15 22:23:31,002 INFO] [sqlalchemy.engine.Engine.base._execute_context] [raw sql] {}\n",
      "[2022-07-15 22:23:31,002 DEBUG] [sqlalchemy.engine.Engine.cursor._init_metadata] Col ('standard_conforming_strings',)\n",
      "[2022-07-15 22:23:31,003 DEBUG] [sqlalchemy.engine.Engine.cursor.log_row] Row ('on',)\n",
      "[2022-07-15 22:23:31,003 DEBUG] [sqlalchemy.pool.impl.QueuePool.base.checkout] Connection <connection object at 0x7fb63a3cc7c0; dsn: 'user=cuddebtj password=xxx dbname=MenOfMadison host=localhost options='-c search_path=dev'', closed: 0> checked out from pool\n",
      "[2022-07-15 22:23:31,005 DEBUG] [sqlalchemy.pool.impl.QueuePool.base._finalize_fairy] Connection <connection object at 0x7fb63a3cc7c0; dsn: 'user=cuddebtj password=xxx dbname=MenOfMadison host=localhost options='-c search_path=dev'', closed: 0> being returned to pool\n",
      "[2022-07-15 22:23:31,006 DEBUG] [sqlalchemy.pool.impl.QueuePool.base._reset] Connection <connection object at 0x7fb63a3cc7c0; dsn: 'user=cuddebtj password=xxx dbname=MenOfMadison host=localhost options='-c search_path=dev'', closed: 0> rollback-on-return\n"
     ]
    },
    {
     "name": "stdout",
     "output_type": "stream",
     "text": [
      "Successfully pulled: SELECT team_id FROM dev.leagueteams WHERE game_id = '406'\n"
     ]
    },
    {
     "name": "stderr",
     "output_type": "stream",
     "text": [
      "[2022-07-15 22:23:34,576 DEBUG] [sqlalchemy.pool.impl.QueuePool.base.__connect] Created new connection <connection object at 0x7fb63a3cc900; dsn: 'user=cuddebtj password=xxx dbname=MenOfMadison host=localhost options='-c search_path=dev'', closed: 0>\n",
      "[2022-07-15 22:23:34,577 INFO] [sqlalchemy.engine.Engine.base._execute_context] select pg_catalog.version()\n",
      "[2022-07-15 22:23:34,578 INFO] [sqlalchemy.engine.Engine.base._execute_context] [raw sql] {}\n",
      "[2022-07-15 22:23:34,579 DEBUG] [sqlalchemy.engine.Engine.cursor._init_metadata] Col ('version',)\n",
      "[2022-07-15 22:23:34,579 DEBUG] [sqlalchemy.engine.Engine.cursor.log_row] Row ('PostgreSQL 14.4 (Ubuntu 14.4-0ubuntu0.22.04.1) on x86_64-pc-linux-gnu, compiled by gcc (Ubuntu 11.2.0-19ubuntu1) 11.2.0, 64-bit',)\n",
      "[2022-07-15 22:23:34,579 INFO] [sqlalchemy.engine.Engine.base._execute_context] select current_schema()\n",
      "[2022-07-15 22:23:34,580 INFO] [sqlalchemy.engine.Engine.base._execute_context] [raw sql] {}\n",
      "[2022-07-15 22:23:34,580 DEBUG] [sqlalchemy.engine.Engine.cursor._init_metadata] Col ('current_schema',)\n",
      "[2022-07-15 22:23:34,581 DEBUG] [sqlalchemy.engine.Engine.cursor.log_row] Row ('dev',)\n",
      "[2022-07-15 22:23:34,581 INFO] [sqlalchemy.engine.Engine.base._execute_context] show standard_conforming_strings\n",
      "[2022-07-15 22:23:34,582 INFO] [sqlalchemy.engine.Engine.base._execute_context] [raw sql] {}\n",
      "[2022-07-15 22:23:34,583 DEBUG] [sqlalchemy.engine.Engine.cursor._init_metadata] Col ('standard_conforming_strings',)\n",
      "[2022-07-15 22:23:34,583 DEBUG] [sqlalchemy.engine.Engine.cursor.log_row] Row ('on',)\n",
      "[2022-07-15 22:23:34,583 DEBUG] [sqlalchemy.pool.impl.QueuePool.base.checkout] Connection <connection object at 0x7fb63a3cc900; dsn: 'user=cuddebtj password=xxx dbname=MenOfMadison host=localhost options='-c search_path=dev'', closed: 0> checked out from pool\n",
      "[2022-07-15 22:23:34,585 DEBUG] [sqlalchemy.pool.impl.QueuePool.base._finalize_fairy] Connection <connection object at 0x7fb63a3cc900; dsn: 'user=cuddebtj password=xxx dbname=MenOfMadison host=localhost options='-c search_path=dev'', closed: 0> being returned to pool\n",
      "[2022-07-15 22:23:34,586 DEBUG] [sqlalchemy.pool.impl.QueuePool.base._reset] Connection <connection object at 0x7fb63a3cc900; dsn: 'user=cuddebtj password=xxx dbname=MenOfMadison host=localhost options='-c search_path=dev'', closed: 0> rollback-on-return\n"
     ]
    },
    {
     "name": "stdout",
     "output_type": "stream",
     "text": [
      "Successfully pulled: SELECT team_id FROM dev.leagueteams WHERE game_id = '406'\n",
      "Error, sleeping for 30 min before retrying.\n",
      "Yahoo data unavailable due to rate limiting. Please try again later.\n"
     ]
    }
   ],
   "source": [
    "import pandas as pd\n",
    "import numpy as np\n",
    "import yaml\n",
    "from pathlib import Path\n",
    "\n",
    "from db_psql_model import DatabaseCursor\n",
    "from utils import get_season, nfl_weeks_pull, game_keys_pull\n",
    "from yahoo_query import league_season_data\n",
    "\n",
    "pd.set_option(\"display.max_columns\", 999)\n",
    "\n",
    "# TODAY = np.datetime64(\"today\", \"D\")\n",
    "TODAY = np.datetime64(\"2021-09-28\")\n",
    "# TODAY = np.datetime64(\"2020-09-28\")\n",
    "# TODAY = np.datetime64(\"2019-09-28\")\n",
    "# TODAY = np.datetime64(\"2018-09-28\")\n",
    "# TODAY = np.datetime64(\"2017-09-28\")\n",
    "# TODAY = np.datetime64(\"2016-09-28\")\n",
    "# TODAY = np.datetime64(\"2015-09-28\")\n",
    "# TODAY = np.datetime64(\"2014-09-28\")\n",
    "# TODAY = np.datetime64(\"2013-09-28\")\n",
    "# TODAY = np.datetime64(\"2012-09-28\")\n",
    "\n",
    "PATH = list(Path().cwd().parent.glob(\"**/private.yaml\"))[0]\n",
    "NFL_WEEKS = nfl_weeks_pull()\n",
    "GAME_KEYS = game_keys_pull(first=\"no\")\n",
    "# SEASON = get_season()\n",
    "SEASON = TODAY.astype(\"datetime64[Y]\").item().year\n",
    "LEAGUE_ID = GAME_KEYS[GAME_KEYS[\"season\"] == SEASON][\"league_ID\"].values[0]\n",
    "GAME_ID = GAME_KEYS[GAME_KEYS[\"season\"] == SEASON][\"game_id\"].values[0]\n",
    "nfl_weeks_list = list(NFL_WEEKS[\"week\"][NFL_WEEKS[\"game_id\"] == GAME_ID])\n",
    "\n",
    "try:\n",
    "    with open(PATH) as file:\n",
    "        credentials = yaml.load(file, Loader=yaml.FullLoader)\n",
    "\n",
    "except Exception as error:\n",
    "    print(error)\n",
    "\n",
    "CONSUMER_KEY = credentials[\"YFPY_CONSUMER_KEY\"]\n",
    "CONSUMER_SECRET = credentials[\"YFPY_CONSUMER_SECRET\"]\n",
    "\n",
    "league = league_season_data(\n",
    "    auth_dir=PATH.parent,\n",
    "    league_id=LEAGUE_ID,\n",
    "    game_id=GAME_ID,\n",
    "    game_code=\"nfl\",\n",
    "    offline=False,\n",
    "    all_output_as_json=False,\n",
    "    consumer_key=CONSUMER_KEY,\n",
    "    consumer_secret=CONSUMER_SECRET,\n",
    "    browser_callback=True,\n",
    ")\n",
    "\n",
    "# league.all_game_keys()\n",
    "# league.all_nfl_weeks()\n",
    "\n",
    "# league.metadata(first_time=first_time)\n",
    "# league.set_roster_pos_stat_cat(first_time=first_time)\n",
    "# league.draft_results(first_time=first_time)\n",
    "# league.teams_and_standings(first_time=\"no\")\n",
    "\n",
    "league.matchups_by_week_regseason(first_time='yes', nfl_week=1)\n",
    "for week in nfl_weeks_list[1:-1]:\n",
    "    league.matchups_by_week_regseason(first_time='no', nfl_week=week)\n",
    "\n",
    "# league.players_list(first_time=\"no\")\n",
    "\n",
    "league.team_roster_by_week(first_time='yes', nfl_week=1)\n",
    "for week in nfl_weeks_list[1:-1]:\n",
    "    league.team_roster_by_week(first_time='no', nfl_week=week)\n",
    "\n",
    "\n",
    "league.team_points_by_week( first_time='yes', nfl_week=1)\n",
    "for week in nfl_weeks_list[1:]:\n",
    "    league.team_points_by_week( first_time='no', nfl_week=week)"
   ]
  },
  {
   "cell_type": "code",
   "execution_count": null,
   "metadata": {},
   "outputs": [],
   "source": [
    "test"
   ]
  },
  {
   "cell_type": "code",
   "execution_count": null,
   "metadata": {},
   "outputs": [],
   "source": [
    "sql_query = (\"SELECT team_id FROM dev.leagueteams WHERE game_id = 406\")\n",
    "data = DatabaseCursor(PATH, options=\"-c search_path=dev\").copy_data_from_postgres(sql_query)\n",
    "data"
   ]
  },
  {
   "cell_type": "code",
   "execution_count": null,
   "metadata": {},
   "outputs": [],
   "source": [
    "# sql_query = \"\"\"\n",
    "# SELECT *\n",
    "# FROM dev.test\n",
    "# \"\"\"\n",
    "# db_cursor = DatabaseCursor(PATH / \"private.yaml\", options=\"-c search_path=dev\")\n",
    "# db_cursor.copy_data_from_postgres(sql_query)"
   ]
  },
  {
   "cell_type": "code",
   "execution_count": 1,
   "metadata": {},
   "outputs": [],
   "source": [
    "import pandas as pd\n",
    "import numpy as np\n",
    "import logging\n",
    "import yaml\n",
    "from pathlib import Path\n",
    "from yfpy import YahooFantasySportsQuery\n",
    "from yfpy.utils import complex_json_handler, unpack_data\n",
    "from yfpy import get_logger\n",
    "\n",
    "from db_psql_model import DatabaseCursor\n",
    "\n",
    "PATH = list(Path().cwd().parent.glob(\"**/private.yaml\"))[0]\n",
    "TEAMS_FILE = list(Path().cwd().parent.glob(\"**/teams.yaml\"))[0]\n",
    "\n",
    "with open(PATH) as file:\n",
    "    credentials = yaml.load(file, Loader=yaml.FullLoader)\n",
    "\n",
    "LOGGET = get_logger(__name__)\n",
    "LOG_OUTPUT = False\n",
    "logging.getLogger(\"yfpy.query\").setLevel(level=logging.INFO)\n",
    "\n",
    "consumer_key = credentials['YFPY_CONSUMER_KEY']\n",
    "consumer_secret = credentials['YFPY_CONSUMER_SECRET']\n",
    "\n",
    "yahoo_query = YahooFantasySportsQuery(\n",
    "    auth_dir='',\n",
    "    league_id='103661',\n",
    "    game_id='406',\n",
    "    game_code='nfl',\n",
    "    consumer_key=consumer_key,\n",
    "    consumer_secret=consumer_secret,\n",
    ")"
   ]
  },
  {
   "cell_type": "code",
   "execution_count": null,
   "metadata": {},
   "outputs": [],
   "source": []
  },
  {
   "cell_type": "code",
   "execution_count": null,
   "metadata": {},
   "outputs": [],
   "source": []
  },
  {
   "cell_type": "code",
   "execution_count": null,
   "metadata": {},
   "outputs": [],
   "source": []
  },
  {
   "cell_type": "code",
   "execution_count": null,
   "metadata": {},
   "outputs": [],
   "source": []
  },
  {
   "cell_type": "code",
   "execution_count": null,
   "metadata": {},
   "outputs": [],
   "source": []
  },
  {
   "cell_type": "code",
   "execution_count": null,
   "metadata": {},
   "outputs": [],
   "source": []
  },
  {
   "cell_type": "code",
   "execution_count": null,
   "metadata": {},
   "outputs": [],
   "source": []
  },
  {
   "cell_type": "code",
   "execution_count": null,
   "metadata": {},
   "outputs": [],
   "source": []
  },
  {
   "cell_type": "code",
   "execution_count": null,
   "metadata": {},
   "outputs": [],
   "source": []
  },
  {
   "cell_type": "code",
   "execution_count": null,
   "metadata": {},
   "outputs": [],
   "source": []
  },
  {
   "cell_type": "code",
   "execution_count": null,
   "metadata": {},
   "outputs": [],
   "source": []
  },
  {
   "cell_type": "code",
   "execution_count": null,
   "metadata": {},
   "outputs": [],
   "source": []
  }
 ],
 "metadata": {
  "kernelspec": {
   "display_name": "Python 3.10.4 ('yahoo_data.venv': venv)",
   "language": "python",
   "name": "python3"
  },
  "language_info": {
   "codemirror_mode": {
    "name": "ipython",
    "version": 3
   },
   "file_extension": ".py",
   "mimetype": "text/x-python",
   "name": "python",
   "nbconvert_exporter": "python",
   "pygments_lexer": "ipython3",
   "version": "3.10.4"
  },
  "orig_nbformat": 4,
  "vscode": {
   "interpreter": {
    "hash": "b5c43157472adecc608398212703a0dd003f122fa8c3d39eaca8de5be4578d47"
   }
  }
 },
 "nbformat": 4,
 "nbformat_minor": 2
}
