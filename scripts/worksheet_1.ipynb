{
 "cells": [
  {
   "cell_type": "code",
   "execution_count": null,
   "metadata": {},
   "outputs": [],
   "source": [
    "import pandas as pd\n",
    "import numpy as np\n",
    "import yaml\n",
    "from time import sleep\n",
    "from pathlib import Path\n",
    "\n",
    "from scripts.utils import get_season, nfl_weeks_pull, game_keys_pull\n",
    "from scripts.yahoo_query import league_season_data\n",
    "\n",
    "PATH = list(Path().cwd().parent.glob(\"**/private.yaml\"))[0]\n",
    "\n",
    "try:\n",
    "    with open(PATH) as file:\n",
    "        CREDS = yaml.load(file, Loader=yaml.FullLoader)\n",
    "\n",
    "except Exception as error:\n",
    "    print(error)\n",
    "\n",
    "TODAY = np.datetime64(\"today\", \"D\")\n",
    "YEAR = TODAY.astype(\"datetime64[Y]\").astype(int) + 1970\n",
    "NFL_WEEKS = nfl_weeks_pull()\n",
    "MAX_WEEK = NFL_WEEKS[\"week\"].max()\n",
    "GAME_KEYS = game_keys_pull(first=\"no\")\n",
    "SEASON = get_season()\n",
    "\n",
    "try:\n",
    "    LEAGUE_ID = GAME_KEYS[GAME_KEYS[\"season\"] == SEASON][\"league_ID\"].values[0]\n",
    "except Exception as e:\n",
    "    print(e)\n",
    "GAME_ID = GAME_KEYS[GAME_KEYS[\"season\"] == SEASON][\"game_id\"].values[0]\n",
    "\n",
    "try:\n",
    "    NFL_WEEK = NFL_WEEKS[\"week\"][\n",
    "        (NFL_WEEKS[\"end\"] >= TODAY) & (NFL_WEEKS[\"start\"] <= TODAY)\n",
    "    ].values[0]\n",
    "\n",
    "except Exception as e:\n",
    "    print(e)\n",
    "    NFL_WEEK = np.nan\n",
    "\n",
    "\n",
    "CONSUMER_KEY = CREDS[\"YFPY_CONSUMER_KEY\"]\n",
    "CONSUMER_SECRET = CREDS[\"YFPY_CONSUMER_SECRET\"]\n",
    "\n",
    "league = league_season_data(\n",
    "    auth_dir=PATH.parent,\n",
    "    league_id=LEAGUE_ID,\n",
    "    game_id=GAME_ID,\n",
    "    game_code=\"nfl\",\n",
    "    offline=False,\n",
    "    all_output_as_json=False,\n",
    "    consumer_key=CONSUMER_KEY,\n",
    "    consumer_secret=CONSUMER_SECRET,\n",
    "    browser_callback=True,\n",
    ")\n",
    "\n",
    "if TODAY == np.datetime64(f\"{YEAR}-08-31\"):\n",
    "    game_keys = league.all_game_keys()\n",
    "    sleep(5)\n",
    "    nfl_weeks = league.all_nfl_weeks()\n",
    "    sleep(5)\n",
    "    meta = league.metadata(first_time=\"no\")\n",
    "    sleep(5)\n",
    "    settings, roster, stat_cat = league.set_roster_pos_stat_cat(first_time=\"no\")\n",
    "    sleep(5)\n",
    "    # players = league.players_list(first_time=\"no\")\n",
    "\n",
    "if (\n",
    "    TODAY\n",
    "    == NFL_WEEKS[\"end\"][\n",
    "        (NFL_WEEKS[\"week\"] == MAX_WEEK) & (NFL_WEEKS[\"game_id\"] == GAME_ID)\n",
    "    ]\n",
    "):\n",
    "    teams = league.teams_and_standings(first_time=\"no\")\n",
    "\n",
    "if (\n",
    "    TODAY\n",
    "    == NFL_WEEKS[\"end\"][\n",
    "        (NFL_WEEKS[\"game_id\"] == GAME_ID) & (NFL_WEEKS[\"week\"] == 1)\n",
    "    ].values[0]\n",
    "):\n",
    "    draft = league.draft_results(first_time=\"no\")\n",
    "\n",
    "week_roster = league.team_roster_by_week(first_time=\"no\", nfl_week=NFL_WEEK)\n",
    "sleep(5)\n",
    "matchups = league.matchups_by_week_regseason(first_time=\"no\", nfl_week=NFL_WEEK)\n",
    "sleep(5)\n",
    "team_points = league.team_points_by_week(first_time=\"no\", nfl_week=NFL_WEEK)\n",
    "\n",
    "\n",
    "\n",
    "\n",
    "\n",
    "\n",
    "\n"
   ]
  },
  {
   "cell_type": "code",
   "execution_count": null,
   "metadata": {},
   "outputs": [],
   "source": []
  },
  {
   "cell_type": "code",
   "execution_count": null,
   "metadata": {},
   "outputs": [],
   "source": []
  },
  {
   "cell_type": "code",
   "execution_count": null,
   "metadata": {},
   "outputs": [],
   "source": []
  },
  {
   "cell_type": "code",
   "execution_count": null,
   "metadata": {},
   "outputs": [],
   "source": []
  },
  {
   "cell_type": "code",
   "execution_count": null,
   "metadata": {},
   "outputs": [],
   "source": []
  },
  {
   "cell_type": "code",
   "execution_count": null,
   "metadata": {},
   "outputs": [],
   "source": []
  },
  {
   "cell_type": "code",
   "execution_count": null,
   "metadata": {},
   "outputs": [],
   "source": []
  },
  {
   "cell_type": "code",
   "execution_count": null,
   "metadata": {},
   "outputs": [],
   "source": []
  },
  {
   "cell_type": "code",
   "execution_count": null,
   "metadata": {},
   "outputs": [],
   "source": []
  },
  {
   "cell_type": "code",
   "execution_count": null,
   "metadata": {},
   "outputs": [],
   "source": []
  },
  {
   "cell_type": "code",
   "execution_count": null,
   "metadata": {},
   "outputs": [],
   "source": []
  },
  {
   "cell_type": "code",
   "execution_count": null,
   "metadata": {},
   "outputs": [],
   "source": []
  },
  {
   "cell_type": "code",
   "execution_count": null,
   "metadata": {},
   "outputs": [],
   "source": []
  },
  {
   "cell_type": "code",
   "execution_count": null,
   "metadata": {},
   "outputs": [],
   "source": []
  },
  {
   "cell_type": "code",
   "execution_count": null,
   "metadata": {},
   "outputs": [],
   "source": []
  },
  {
   "cell_type": "code",
   "execution_count": null,
   "metadata": {},
   "outputs": [],
   "source": []
  },
  {
   "cell_type": "code",
   "execution_count": null,
   "metadata": {},
   "outputs": [],
   "source": []
  }
 ],
 "metadata": {
  "kernelspec": {
   "display_name": "Python 3.10.4 ('yahoo_data.venv': venv)",
   "language": "python",
   "name": "python3"
  },
  "language_info": {
   "codemirror_mode": {
    "name": "ipython",
    "version": 3
   },
   "file_extension": ".py",
   "mimetype": "text/x-python",
   "name": "python",
   "nbconvert_exporter": "python",
   "pygments_lexer": "ipython3",
   "version": "3.10.4"
  },
  "orig_nbformat": 4,
  "vscode": {
   "interpreter": {
    "hash": "b5c43157472adecc608398212703a0dd003f122fa8c3d39eaca8de5be4578d47"
   }
  }
 },
 "nbformat": 4,
 "nbformat_minor": 2
}
