{
 "cells": [
  {
   "cell_type": "code",
   "execution_count": null,
   "metadata": {},
   "outputs": [],
   "source": [
    "# import pandas as pd\n",
    "# import numpy as np\n",
    "# from pathlib import Path\n",
    "\n",
    "# from db_psql_model import DatabaseCursor\n",
    "# from utils import get_season, nfl_weeks_pull, game_keys_pull\n",
    "# from yahoo_query import league_season_data\n",
    "\n",
    "# TODAY = np.datetime64(\"today\", \"D\")\n",
    "# TODAY = np.datetime64(\"2021-09-28\")\n",
    "# TODAY = np.datetime64(\"2020-09-28\")\n",
    "# TODAY = np.datetime64(\"2019-09-28\")\n",
    "# TODAY = np.datetime64(\"2018-09-28\")\n",
    "# TODAY = np.datetime64(\"2017-09-28\")\n",
    "# TODAY = np.datetime64(\"2016-09-28\")\n",
    "# TODAY = np.datetime64(\"2015-09-28\")\n",
    "# TODAY = np.datetime64(\"2014-09-28\")\n",
    "# TODAY = np.datetime64(\"2013-09-28\")\n",
    "# TODAY = np.datetime64(\"2012-09-28\")\n",
    "\n",
    "# PATH = list(Path().cwd().parent.glob(\"**/private.yaml\"))[0]\n",
    "# NFL_WEEKS = nfl_weeks_pull()\n",
    "# GAME_KEYS = game_keys_pull(first=\"no\")\n",
    "# SEASON = get_season()\n",
    "# SEASON = TODAY.astype(\"datetime64[Y]\").item().year\n",
    "# LEAGUE_ID = GAME_KEYS[GAME_KEYS[\"season\"] == SEASON][\"league_ID\"].values[0]\n",
    "# GAME_ID = GAME_KEYS[GAME_KEYS[\"season\"] == SEASON][\"game_id\"].values[0]\n",
    "# nfl_weeks_list = list(NFL_WEEKS[\"week\"][NFL_WEEKS[\"game_id\"] == GAME_ID])\n",
    "\n",
    "# CONSUMER_KEY = \"\"\n",
    "# CONSUMER_SECRET = \"\""
   ]
  },
  {
   "cell_type": "code",
   "execution_count": null,
   "metadata": {},
   "outputs": [],
   "source": [
    "# league = league_season_data(\n",
    "#     auth_dir=PATH,\n",
    "#     league_id=LEAGUE_ID,\n",
    "#     game_id=GAME_ID,\n",
    "#     game_code=\"nfl\",\n",
    "#     offline=False,\n",
    "#     all_output_as_json=False,\n",
    "#     consumer_key=CONSUMER_KEY,\n",
    "#     consumer_secret=CONSUMER_SECRET,\n",
    "#     browser_callback=True,\n",
    "# )\n",
    "# game_keys = league.all_game_keys()\n",
    "# nfl_weeks = league.all_nfl_weeks()\n",
    "\n",
    "# meta = league.metadata(first_time=first_time)\n",
    "# settings, roster, stat_cat = league.set_roster_pos_stat_cat(first_time=first_time)\n",
    "# draft = league.draft_results(first_time=first_time)\n",
    "# teams = league.teams_and_standings(first_time=\"no\")\n",
    "\n",
    "# for week in nfl_weeks_list[:-1]:\n",
    "#     matchups = league.matchups_by_week(first_time='no', nfl_week=week)\n",
    "\n",
    "# players = league.players_list(first_time=\"no\")\n",
    "# players.to_csv(f\"players_{str(SEASON)}.csv\", index=False)\n",
    "\n",
    "# for week in nfl_weeks_list[:-1]:\n",
    "#     week_roster = league.team_roster_by_week(first_time='no', nfl_week=week)\n",
    "# week_stats = league.player_stats_by_week(first_time=\"yes\", nfl_week=1)\n",
    "# for week in nfl_weeks_list[1:-1]:\n",
    "#     week_stats = league.player_stats_by_week(first_time=\"no\", nfl_week=week)\n",
    "\n",
    "# pd.set_option(\"display.max_columns\", 999)\n",
    "# week_stats"
   ]
  },
  {
   "cell_type": "code",
   "execution_count": null,
   "metadata": {},
   "outputs": [],
   "source": [
    "# cur = DatabaseCursor(PATH / \"private.yaml\", options=\"-c search_path=dev\")\n",
    "# df = pd.read_csv(PATH / \"assests\" / \"game_keys.csv\")\n",
    "# cur.copy_table_to_postgres_new(df, \"test\", \"no\")"
   ]
  },
  {
   "cell_type": "code",
   "execution_count": null,
   "metadata": {},
   "outputs": [],
   "source": [
    "# sql_query = \"\"\"\n",
    "# SELECT *\n",
    "# FROM dev.test\n",
    "# \"\"\"\n",
    "# db_cursor = DatabaseCursor(PATH / \"private.yaml\", options=\"-c search_path=dev\")\n",
    "# db_cursor.copy_data_from_postgres(sql_query)"
   ]
  },
  {
   "cell_type": "code",
   "execution_count": null,
   "metadata": {},
   "outputs": [],
   "source": []
  },
  {
   "cell_type": "code",
   "execution_count": null,
   "metadata": {},
   "outputs": [],
   "source": []
  },
  {
   "cell_type": "code",
   "execution_count": null,
   "metadata": {},
   "outputs": [],
   "source": []
  },
  {
   "cell_type": "code",
   "execution_count": null,
   "metadata": {},
   "outputs": [],
   "source": []
  },
  {
   "cell_type": "code",
   "execution_count": null,
   "metadata": {},
   "outputs": [],
   "source": []
  },
  {
   "cell_type": "code",
   "execution_count": null,
   "metadata": {},
   "outputs": [],
   "source": []
  },
  {
   "cell_type": "code",
   "execution_count": null,
   "metadata": {},
   "outputs": [],
   "source": []
  }
 ],
 "metadata": {
  "kernelspec": {
   "display_name": "Python 3.10.4 ('yahoo_data.venv': venv)",
   "language": "python",
   "name": "python3"
  },
  "language_info": {
   "codemirror_mode": {
    "name": "ipython",
    "version": 3
   },
   "file_extension": ".py",
   "mimetype": "text/x-python",
   "name": "python",
   "nbconvert_exporter": "python",
   "pygments_lexer": "ipython3",
   "version": "3.10.4"
  },
  "orig_nbformat": 4,
  "vscode": {
   "interpreter": {
    "hash": "b5c43157472adecc608398212703a0dd003f122fa8c3d39eaca8de5be4578d47"
   }
  }
 },
 "nbformat": 4,
 "nbformat_minor": 2
}
