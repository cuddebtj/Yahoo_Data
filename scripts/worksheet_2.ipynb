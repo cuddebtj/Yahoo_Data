{
 "cells": [
  {
   "cell_type": "code",
   "execution_count": null,
   "metadata": {},
   "outputs": [],
   "source": [
    "import pandas as pd\n",
    "import numpy as np\n",
    "from pathlib import Path\n",
    "\n",
    "pd.set_option(\"display.max_rows\", 999)\n",
    "pd.set_option(\"display.max_colwidth\", 40)\n",
    "pd.set_option(\"display.max_columns\", 999)\n",
    "pd.set_option(\"display.precision\", 2)\n",
    "\n",
    "from db_psql_model import DatabaseCursor\n",
    "\n",
    "PATH = list(Path().cwd().parent.glob(\"**/private.yaml\"))[0]"
   ]
  },
  {
   "cell_type": "markdown",
   "metadata": {},
   "source": [
    "MoM FFBL Weekly Rankings Replacement "
   ]
  },
  {
   "cell_type": "code",
   "execution_count": null,
   "metadata": {},
   "outputs": [],
   "source": [
    "\"\"\"\n",
    "MoM FFBL Weekly Rankings Replacement\n",
    "\"\"\"\n",
    "matchups_query = \"\"\"SELECT * FROM dev.weeklyleaguematchups\"\"\"\n",
    "teams_query = \"\"\"SELECT team_key, name, nickname, game_id FROM dev.leagueteams WHERE game_id >= 390\"\"\"\n",
    "cur = DatabaseCursor(PATH, options=\"-c search_path=dev\")\n",
    "matchups = cur.copy_data_from_postgres(matchups_query)\n",
    "cur = DatabaseCursor(PATH, options=\"-c search_path=dev\")\n",
    "teams = cur.copy_data_from_postgres(teams_query)\n",
    "matchups = matchups[\n",
    "    (matchups[\"is_playoffs\"] == 0)\n",
    "    & (matchups[\"is_consolation\"] == 0)\n",
    "    & (matchups[\"game_id\"] >= 390)\n",
    "]\n",
    "matchups_a = matchups.copy()\n",
    "matchups_b = matchups.copy()\n",
    "matchups_b_cols = list(matchups_b.columns)\n",
    "rename_columns = {}\n",
    "for col in matchups_b_cols:\n",
    "    if \"team_a\" in col:\n",
    "        rename_columns[col] = f\"team_b{col[6:]}\"\n",
    "    elif \"team_b\" in col:\n",
    "        rename_columns[col] = f\"team_a{col[6:]}\"\n",
    "matchups_b.rename(columns=rename_columns, inplace=True)\n",
    "matchups = pd.concat([matchups_a, matchups_b])\n",
    "matchups.sort_values([\"week_start\", \"team_a_team_key\"], inplace=True)\n",
    "matchups.reset_index(drop=True, inplace=True)\n",
    "matchups.drop(\n",
    "    [\n",
    "        \"is_matchup_recap_available\",\n",
    "        \"is_tied\",\n",
    "        \"matchup_recap_title\",\n",
    "        \"matchup_recap_url\",\n",
    "        \"status\",\n",
    "        \"league_id\",\n",
    "    ],\n",
    "    axis=1,\n",
    "    inplace=True,\n",
    ")\n",
    "matchups[\"win_loss\"] = np.where(\n",
    "    matchups[\"winner_team_key\"] == matchups[\"team_a_team_key\"], \"W\", \"L\"\n",
    ")\n",
    "matchups[\"2pt_system\"] = matchups.groupby([\"week\", \"game_id\"])[\"team_a_points\"].rank(\n",
    "    \"first\", ascending=False\n",
    ")\n",
    "matchups[\"2pt_system\"] = np.where(matchups[\"2pt_system\"] <= 5, 1, 0)\n",
    "matchups = matchups[\n",
    "    [\n",
    "        \"week\",\n",
    "        \"team_a_team_key\",\n",
    "        \"team_a_points\",\n",
    "        \"team_a_projected_points\",\n",
    "        \"win_loss\",\n",
    "        \"2pt_system\",\n",
    "        \"game_id\",\n",
    "    ]\n",
    "]\n",
    "weeks = list(matchups[\"week\"].unique())\n",
    "regular_season = matchups[matchups[\"week\"] == 1]\n",
    "for wk in weeks[1:]:\n",
    "    reg_season_week = matchups[matchups[\"week\"] == wk]\n",
    "    regular_season = regular_season.merge(\n",
    "        reg_season_week,\n",
    "        how=\"outer\",\n",
    "        on=\"team_a_team_key\",\n",
    "        copy=True,\n",
    "        suffixes=(\"\", f\"_{wk}\"),\n",
    "    )\n",
    "reg_season_cols = list(regular_season.columns)\n",
    "twopt_cols = []\n",
    "team_pts = []\n",
    "team_pro_pts = []\n",
    "w_l_cols = []\n",
    "for col in reg_season_cols:\n",
    "    if \"2pt_system\" in col:\n",
    "        twopt_cols.append(col)\n",
    "    elif \"team_a_points\" in col:\n",
    "        team_pts.append(col)\n",
    "    elif \"team_a_projected_points\" in col:\n",
    "        team_pro_pts.append(col)\n",
    "    elif \"win_loss\" in col:\n",
    "        w_l_cols.append(col)\n",
    "regular_season.insert(2, \"team_a_points_total\", regular_season[team_pts].sum(axis=1))\n",
    "regular_season.insert(\n",
    "    3, \"team_a_project_points_total\", regular_season[team_pro_pts].sum(axis=1)\n",
    ")\n",
    "regular_season.insert(\n",
    "    4, \"wins\", regular_season[w_l_cols].apply(lambda s: (s == \"W\").sum(), axis=1)\n",
    ")\n",
    "regular_season.insert(\n",
    "    5, \"losses\", regular_season[w_l_cols].apply(lambda s: (s == \"L\").sum(), axis=1)\n",
    ")\n",
    "twopt_cols.append(\"wins\")\n",
    "regular_season.insert(2, \"2pt_total\", regular_season[twopt_cols].sum(axis=1))\n",
    "week_1 = regular_season[\"week\"]\n",
    "regular_season.drop(\"week\", axis=1, inplace=True)\n",
    "regular_season.insert(6, \"week_1\", week_1)\n",
    "regular_season.insert(\n",
    "    2,\n",
    "    \"2pt_rank\",\n",
    "    regular_season.groupby([\"game_id\"])[\"2pt_total\"]\n",
    "    .rank(method=\"min\", ascending=False)\n",
    "    .astype(int),\n",
    ")\n",
    "regular_season.insert(\n",
    "    4,\n",
    "    \"pts_rank\",\n",
    "    regular_season.groupby([\"game_id\"])[\"team_a_points_total\"]\n",
    "    .rank(method=\"min\", ascending=False)\n",
    "    .astype(int),\n",
    ")\n",
    "regular_season.insert(\n",
    "    6,\n",
    "    \"projected_pts_rank\",\n",
    "    regular_season.groupby([\"game_id\"])[\"team_a_project_points_total\"]\n",
    "    .rank(method=\"min\", ascending=False)\n",
    "    .astype(int),\n",
    ")\n",
    "regular_season.insert(\n",
    "    0,\n",
    "    \"tuple\",\n",
    "    regular_season[[\"2pt_rank\", \"pts_rank\"]].apply(tuple, axis=1),\n",
    ")\n",
    "regular_season.insert(\n",
    "    0,\n",
    "    \"overall_rank\",\n",
    "    regular_season.groupby([\"game_id\"])[\"tuple\"]\n",
    "    .rank(method=\"min\", ascending=True)\n",
    "    .astype(int),\n",
    ")\n",
    "regular_season = regular_season.merge(\n",
    "    teams, how=\"outer\", left_on=\"team_a_team_key\", right_on=\"team_key\"\n",
    ")\n",
    "team_name = regular_season[\"name\"]\n",
    "team_mang = regular_season[\"nickname\"]\n",
    "game_id = regular_season[\"game_id_y\"]\n",
    "regular_season.drop(\n",
    "    [\"team_a_team_key\", \"name\", \"nickname\", \"tuple\", \"game_id_x\", \"game_id_y\"],\n",
    "    axis=1,\n",
    "    inplace=True,\n",
    ")\n",
    "regular_season.insert(1, \"manager\", team_mang)\n",
    "regular_season.insert(2, \"team_name\", team_name)\n",
    "regular_season.insert(0, \"game_id\", game_id)\n",
    "regular_season.sort_values(\n",
    "    [\"overall_rank\", \"2pt_total\", \"team_a_points_total\"],\n",
    "    ascending=[True, False, False],\n",
    "    inplace=True,\n",
    ")"
   ]
  },
  {
   "cell_type": "markdown",
   "metadata": {},
   "source": [
    "#MoM FFBL Draft Analysis/Trends Replacement"
   ]
  },
  {
   "cell_type": "code",
   "execution_count": null,
   "metadata": {},
   "outputs": [],
   "source": [
    "\"\"\"\n",
    "MoM FFBL Draft Analysis/Trends Replacement\n",
    "\"\"\""
   ]
  },
  {
   "cell_type": "code",
   "execution_count": null,
   "metadata": {},
   "outputs": [],
   "source": []
  },
  {
   "cell_type": "code",
   "execution_count": null,
   "metadata": {},
   "outputs": [],
   "source": []
  },
  {
   "cell_type": "code",
   "execution_count": null,
   "metadata": {},
   "outputs": [],
   "source": []
  },
  {
   "cell_type": "code",
   "execution_count": null,
   "metadata": {},
   "outputs": [],
   "source": []
  },
  {
   "cell_type": "markdown",
   "metadata": {},
   "source": [
    "MoM FFBL League History Replacement"
   ]
  },
  {
   "cell_type": "code",
   "execution_count": null,
   "metadata": {},
   "outputs": [],
   "source": [
    "\"\"\"\n",
    "MoM FFBL League History Replacement\n",
    "\"\"\""
   ]
  },
  {
   "cell_type": "code",
   "execution_count": null,
   "metadata": {},
   "outputs": [],
   "source": []
  },
  {
   "cell_type": "code",
   "execution_count": null,
   "metadata": {},
   "outputs": [],
   "source": []
  },
  {
   "cell_type": "code",
   "execution_count": null,
   "metadata": {},
   "outputs": [],
   "source": []
  },
  {
   "cell_type": "markdown",
   "metadata": {},
   "source": [
    "MoM FFBL League Records Replacement"
   ]
  },
  {
   "cell_type": "code",
   "execution_count": null,
   "metadata": {},
   "outputs": [],
   "source": [
    "\"\"\"\n",
    "MoM FFBL League Records Replacement\n",
    "\"\"\""
   ]
  },
  {
   "cell_type": "code",
   "execution_count": null,
   "metadata": {},
   "outputs": [],
   "source": []
  },
  {
   "cell_type": "code",
   "execution_count": null,
   "metadata": {},
   "outputs": [],
   "source": []
  },
  {
   "cell_type": "code",
   "execution_count": null,
   "metadata": {},
   "outputs": [],
   "source": []
  },
  {
   "cell_type": "code",
   "execution_count": null,
   "metadata": {},
   "outputs": [],
   "source": []
  }
 ],
 "metadata": {
  "kernelspec": {
   "display_name": "Python 3.10.4 ('yahoo_data.venv': venv)",
   "language": "python",
   "name": "python3"
  },
  "language_info": {
   "codemirror_mode": {
    "name": "ipython",
    "version": 3
   },
   "file_extension": ".py",
   "mimetype": "text/x-python",
   "name": "python",
   "nbconvert_exporter": "python",
   "pygments_lexer": "ipython3",
   "version": "3.10.4"
  },
  "orig_nbformat": 4,
  "vscode": {
   "interpreter": {
    "hash": "b5c43157472adecc608398212703a0dd003f122fa8c3d39eaca8de5be4578d47"
   }
  }
 },
 "nbformat": 4,
 "nbformat_minor": 2
}
