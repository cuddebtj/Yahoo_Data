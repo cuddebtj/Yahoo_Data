{
 "cells": [
  {
   "cell_type": "code",
   "execution_count": 42,
   "metadata": {},
   "outputs": [],
   "source": [
    "import json\n",
    "import logging\n",
    "import pandas as pd\n",
    "import numpy as np\n",
    "import os\n",
    "from pathlib import Path\n",
    "from yfpy import YahooFantasySportsQuery\n",
    "from yfpy import get_logger\n",
    "from yfpy.utils import unpack_data, dict_to_list, complex_json_handler, flatten_json_dict_list, flatten_to_list, reformat_json_list\n",
    "from dotenv import load_dotenv\n",
    "from gspread_pandas import Spread\n",
    "\n",
    "pd.set_option(\"display.max_colwidth\", 999)\n",
    "\n",
    "from utils import get_season, league_season_info, google_sheet_upload, sql_upload_table, sql_grab_table\n",
    "\n",
    "\n",
    "load_dotenv()\n",
    "LOGGET = get_logger(__name__)\n",
    "LOG_OUTPUT = False\n",
    "logging.getLogger(\"yfpy.query\").setLevel(level=logging.INFO)\n",
    "\n",
    "PATH = Path.cwd().parents[0]\n",
    "DATA_DIR = PATH / \"data\"\n",
    "\n",
    "SEASON = get_season()\n",
    "NFL_DATES_DF, LEAGUE_ID_DF = league_season_info()\n",
    "\n",
    "# TODAY = np.datetime64(\"today\", \"D\")\n",
    "TODAY = np.datetime64(\"2021-09-28\")\n",
    "NFL_WEEK = NFL_DATES_DF[\"Week\"][\n",
    "    (NFL_DATES_DF[\"End_Date\"] >= TODAY) & (NFL_DATES_DF[\"Start_Date\"] <= TODAY)\n",
    "].values[0]\n",
    "LEAGUE_ID = LEAGUE_ID_DF[LEAGUE_ID_DF[\"season\"] == SEASON][\"league_ID\"].values[0]\n",
    "GAME_ID = LEAGUE_ID_DF[LEAGUE_ID_DF[\"season\"] == SEASON][\"game_ID\"].values[0]\n",
    "WEEKS = list(range(NFL_WEEK, 0, -1))\n",
    "\n",
    "CONSUMER_KEY = os.getenv(\"yahoo_client_id\")\n",
    "CONSUMER_SECRET = os.getenv(\"yahoo_client_secret\")\n",
    "\n",
    "try:\n",
    "    yahoo_query = YahooFantasySportsQuery(\n",
    "        auth_dir=PATH,\n",
    "        league_id=LEAGUE_ID,\n",
    "        game_id=GAME_ID,\n",
    "        game_code=\"nfl\",\n",
    "        offline=False,\n",
    "        all_output_as_json=False,\n",
    "        consumer_key=CONSUMER_KEY,\n",
    "        consumer_secret=CONSUMER_SECRET,\n",
    "        browser_callback=True,\n",
    "    )\n",
    "\n",
    "except Exception as e:\n",
    "    print(e)"
   ]
  },
  {
   "cell_type": "code",
   "execution_count": 43,
   "metadata": {},
   "outputs": [],
   "source": [
    "def all_game_keys():\n",
    "    data = unpack_data(yahoo_query.get_all_yahoo_fantasy_game_keys())\n",
    "    game_keys = pd.DataFrame()\n",
    "    for row in data:\n",
    "        row = pd.DataFrame(complex_json_handler(row['game']), index=[0])\n",
    "        game_keys = pd.concat([game_keys, row])\n",
    "    game_keys.reset_index(drop=True, inplace=True)\n",
    "    game_keys = game_keys[game_keys['season']>=2012]\n",
    "    sql_upload_table(dataframe=game_keys, table_name=\"GameKeys\", data_schema=\"dbo\", chunksize=500, if_exists=\"replace\", index=False)\n",
    "\n",
    "\n",
    "def all_nfl_weeks():\n",
    "    game_keys = sql_grab_table('GameKeys')\n",
    "    game_id = list(game_keys['game_id'])\n",
    "    weeks = pd.DataFrame()\n",
    "    for g in game_id:\n",
    "        data = yahoo_query.get_game_weeks_by_game_id(g)\n",
    "        for i in data:\n",
    "            row = pd.json_normalize(complex_json_handler(i['game_week']))\n",
    "            row['game_id'] = g\n",
    "            weeks = pd.concat([weeks, row])\n",
    "    sql_upload_table(dataframe=weeks, table_name=\"NFLWeeks\", data_schema=\"dbo\", chunksize=500, if_exists=\"replace\", index=False)"
   ]
  },
  {
   "cell_type": "code",
   "execution_count": null,
   "metadata": {},
   "outputs": [],
   "source": []
  },
  {
   "cell_type": "code",
   "execution_count": null,
   "metadata": {},
   "outputs": [],
   "source": []
  },
  {
   "cell_type": "code",
   "execution_count": null,
   "metadata": {},
   "outputs": [],
   "source": []
  },
  {
   "cell_type": "code",
   "execution_count": null,
   "metadata": {},
   "outputs": [],
   "source": []
  },
  {
   "cell_type": "code",
   "execution_count": null,
   "metadata": {},
   "outputs": [],
   "source": []
  },
  {
   "cell_type": "code",
   "execution_count": null,
   "metadata": {},
   "outputs": [],
   "source": []
  },
  {
   "cell_type": "code",
   "execution_count": null,
   "metadata": {},
   "outputs": [],
   "source": []
  },
  {
   "cell_type": "code",
   "execution_count": null,
   "metadata": {},
   "outputs": [],
   "source": []
  },
  {
   "cell_type": "code",
   "execution_count": null,
   "metadata": {},
   "outputs": [],
   "source": []
  },
  {
   "cell_type": "code",
   "execution_count": null,
   "metadata": {},
   "outputs": [],
   "source": []
  },
  {
   "cell_type": "code",
   "execution_count": null,
   "metadata": {},
   "outputs": [],
   "source": []
  },
  {
   "cell_type": "code",
   "execution_count": null,
   "metadata": {},
   "outputs": [],
   "source": []
  }
 ],
 "metadata": {
  "interpreter": {
   "hash": "29258400a8f826869c35241d002ab1a2d58355eacb0fc692319d3b839b315963"
  },
  "kernelspec": {
   "display_name": "Python 3.10.4 ('yahoo.venv': venv)",
   "language": "python",
   "name": "python3"
  },
  "language_info": {
   "codemirror_mode": {
    "name": "ipython",
    "version": 3
   },
   "file_extension": ".py",
   "mimetype": "text/x-python",
   "name": "python",
   "nbconvert_exporter": "python",
   "pygments_lexer": "ipython3",
   "version": "3.10.4"
  },
  "orig_nbformat": 4
 },
 "nbformat": 4,
 "nbformat_minor": 2
}
