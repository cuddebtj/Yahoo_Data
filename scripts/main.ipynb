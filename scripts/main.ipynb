{
 "cells": [
  {
   "cell_type": "code",
   "execution_count": 1,
   "metadata": {},
   "outputs": [
    {
     "name": "stderr",
     "output_type": "stream",
     "text": [
      "[2022-07-04 11:05:31,500 DEBUG] [sqlalchemy.pool.impl.QueuePool.base.__connect] Created new connection <connection object at 0x7f7d5799e340; dsn: 'user=cuddebtj password=xxx dbname=MenOfMadison host=localhost options='-c search_path=prod'', closed: 0>\n",
      "[2022-07-04 11:05:31,502 INFO] [sqlalchemy.engine.Engine.base._execute_context] select pg_catalog.version()\n",
      "[2022-07-04 11:05:31,502 INFO] [sqlalchemy.engine.Engine.base._execute_context] [raw sql] {}\n",
      "[2022-07-04 11:05:31,503 DEBUG] [sqlalchemy.engine.Engine.cursor._init_metadata] Col ('version',)\n",
      "[2022-07-04 11:05:31,504 DEBUG] [sqlalchemy.engine.Engine.cursor.log_row] Row ('PostgreSQL 14.3 (Ubuntu 14.3-0ubuntu0.22.04.1) on x86_64-pc-linux-gnu, compiled by gcc (Ubuntu 11.2.0-19ubuntu1) 11.2.0, 64-bit',)\n",
      "[2022-07-04 11:05:31,504 INFO] [sqlalchemy.engine.Engine.base._execute_context] select current_schema()\n",
      "[2022-07-04 11:05:31,505 INFO] [sqlalchemy.engine.Engine.base._execute_context] [raw sql] {}\n",
      "[2022-07-04 11:05:31,506 DEBUG] [sqlalchemy.engine.Engine.cursor._init_metadata] Col ('current_schema',)\n",
      "[2022-07-04 11:05:31,506 DEBUG] [sqlalchemy.engine.Engine.cursor.log_row] Row ('prod',)\n",
      "[2022-07-04 11:05:31,507 INFO] [sqlalchemy.engine.Engine.base._execute_context] show standard_conforming_strings\n",
      "[2022-07-04 11:05:31,507 INFO] [sqlalchemy.engine.Engine.base._execute_context] [raw sql] {}\n",
      "[2022-07-04 11:05:31,508 DEBUG] [sqlalchemy.engine.Engine.cursor._init_metadata] Col ('standard_conforming_strings',)\n",
      "[2022-07-04 11:05:31,508 DEBUG] [sqlalchemy.engine.Engine.cursor.log_row] Row ('on',)\n",
      "[2022-07-04 11:05:31,509 DEBUG] [sqlalchemy.pool.impl.QueuePool.base.checkout] Connection <connection object at 0x7f7d5799e340; dsn: 'user=cuddebtj password=xxx dbname=MenOfMadison host=localhost options='-c search_path=prod'', closed: 0> checked out from pool\n",
      "[2022-07-04 11:05:31,511 DEBUG] [sqlalchemy.pool.impl.QueuePool.base._finalize_fairy] Connection <connection object at 0x7f7d5799e340; dsn: 'user=cuddebtj password=xxx dbname=MenOfMadison host=localhost options='-c search_path=prod'', closed: 0> being returned to pool\n",
      "[2022-07-04 11:05:31,512 DEBUG] [sqlalchemy.pool.impl.QueuePool.base._reset] Connection <connection object at 0x7f7d5799e340; dsn: 'user=cuddebtj password=xxx dbname=MenOfMadison host=localhost options='-c search_path=prod'', closed: 0> rollback-on-return\n",
      "[2022-07-04 11:05:31,521 DEBUG] [sqlalchemy.pool.impl.QueuePool.base.__connect] Created new connection <connection object at 0x7f7d5799e980; dsn: 'user=cuddebtj password=xxx dbname=MenOfMadison host=localhost options='-c search_path=prod'', closed: 0>\n",
      "[2022-07-04 11:05:31,523 INFO] [sqlalchemy.engine.Engine.base._execute_context] select pg_catalog.version()\n",
      "[2022-07-04 11:05:31,524 INFO] [sqlalchemy.engine.Engine.base._execute_context] [raw sql] {}\n",
      "[2022-07-04 11:05:31,524 DEBUG] [sqlalchemy.engine.Engine.cursor._init_metadata] Col ('version',)\n",
      "[2022-07-04 11:05:31,525 DEBUG] [sqlalchemy.engine.Engine.cursor.log_row] Row ('PostgreSQL 14.3 (Ubuntu 14.3-0ubuntu0.22.04.1) on x86_64-pc-linux-gnu, compiled by gcc (Ubuntu 11.2.0-19ubuntu1) 11.2.0, 64-bit',)\n",
      "[2022-07-04 11:05:31,525 INFO] [sqlalchemy.engine.Engine.base._execute_context] select current_schema()\n",
      "[2022-07-04 11:05:31,526 INFO] [sqlalchemy.engine.Engine.base._execute_context] [raw sql] {}\n",
      "[2022-07-04 11:05:31,527 DEBUG] [sqlalchemy.engine.Engine.cursor._init_metadata] Col ('current_schema',)\n",
      "[2022-07-04 11:05:31,527 DEBUG] [sqlalchemy.engine.Engine.cursor.log_row] Row ('prod',)\n",
      "[2022-07-04 11:05:31,528 INFO] [sqlalchemy.engine.Engine.base._execute_context] show standard_conforming_strings\n",
      "[2022-07-04 11:05:31,528 INFO] [sqlalchemy.engine.Engine.base._execute_context] [raw sql] {}\n",
      "[2022-07-04 11:05:31,529 DEBUG] [sqlalchemy.engine.Engine.cursor._init_metadata] Col ('standard_conforming_strings',)\n",
      "[2022-07-04 11:05:31,529 DEBUG] [sqlalchemy.engine.Engine.cursor.log_row] Row ('on',)\n",
      "[2022-07-04 11:05:31,529 DEBUG] [sqlalchemy.pool.impl.QueuePool.base.checkout] Connection <connection object at 0x7f7d5799e980; dsn: 'user=cuddebtj password=xxx dbname=MenOfMadison host=localhost options='-c search_path=prod'', closed: 0> checked out from pool\n",
      "[2022-07-04 11:05:31,532 DEBUG] [sqlalchemy.pool.impl.QueuePool.base._finalize_fairy] Connection <connection object at 0x7f7d5799e980; dsn: 'user=cuddebtj password=xxx dbname=MenOfMadison host=localhost options='-c search_path=prod'', closed: 0> being returned to pool\n",
      "[2022-07-04 11:05:31,532 DEBUG] [sqlalchemy.pool.impl.QueuePool.base._reset] Connection <connection object at 0x7f7d5799e980; dsn: 'user=cuddebtj password=xxx dbname=MenOfMadison host=localhost options='-c search_path=prod'', closed: 0> rollback-on-return\n"
     ]
    },
    {
     "name": "stdout",
     "output_type": "stream",
     "text": [
      "Successfully pulled: SELECT * FROM prod.nflweeks\n",
      "Successfully pulled: SELECT * FROM prod.gamekeys\n",
      "/home/cuddebtj/Documents/Python/Yahoo_Data\n"
     ]
    }
   ],
   "source": [
    "import pandas as pd\n",
    "import numpy as np\n",
    "from pathlib import Path\n",
    "\n",
    "from db_psql_model import DatabaseCursor\n",
    "from utils import get_season, nfl_weeks_pull, game_keys_pull\n",
    "from yahoo_query import league_season_data\n",
    "\n",
    "# TODAY = np.datetime64(\"today\", \"D\")\n",
    "TODAY = np.datetime64(\"2021-09-28\")\n",
    "# TODAY = np.datetime64(\"2020-09-28\")\n",
    "# TODAY = np.datetime64(\"2019-09-28\")\n",
    "# TODAY = np.datetime64(\"2018-09-28\")\n",
    "# TODAY = np.datetime64(\"2017-09-28\")\n",
    "# TODAY = np.datetime64(\"2016-09-28\")\n",
    "# TODAY = np.datetime64(\"2015-09-28\")\n",
    "# TODAY = np.datetime64(\"2014-09-28\")\n",
    "# TODAY = np.datetime64(\"2013-09-28\")\n",
    "# TODAY = np.datetime64(\"2012-09-28\")\n",
    "\n",
    "PATH = Path.cwd().parents[0]\n",
    "\n",
    "NFL_WEEKS = nfl_weeks_pull()\n",
    "GAME_KEYS = game_keys_pull(first=\"no\")\n",
    "SEASON = get_season()\n",
    "# SEASON = TODAY.astype(\"datetime64[Y]\").item().year\n",
    "# LEAGUE_ID = GAME_KEYS[GAME_KEYS[\"season\"] == SEASON][\"league_ID\"].values[0]\n",
    "GAME_ID = GAME_KEYS[GAME_KEYS[\"season\"] == SEASON][\"game_id\"].values[0]\n",
    "# nfl_weeks_list = list(NFL_WEEKS[\"week\"][NFL_WEEKS[\"game_id\"] == GAME_ID])\n",
    "\n",
    "# CONSUMER_KEY = \"\"\n",
    "# CONSUMER_SECRET = \"\"\n",
    "print(PATH)"
   ]
  },
  {
   "cell_type": "code",
   "execution_count": 39,
   "metadata": {},
   "outputs": [
    {
     "data": {
      "text/plain": [
       "4"
      ]
     },
     "execution_count": 39,
     "metadata": {},
     "output_type": "execute_result"
    }
   ],
   "source": [
    "NFL_WEEK = NFL_WEEKS[\"week\"][(NFL_WEEKS[\"end\"] >= TODAY) & (NFL_WEEKS[\"start\"] <= TODAY)].values[0]\n",
    "NFL_WEEK"
   ]
  },
  {
   "cell_type": "code",
   "execution_count": null,
   "metadata": {},
   "outputs": [],
   "source": []
  },
  {
   "cell_type": "code",
   "execution_count": null,
   "metadata": {},
   "outputs": [],
   "source": []
  },
  {
   "cell_type": "code",
   "execution_count": null,
   "metadata": {},
   "outputs": [],
   "source": []
  },
  {
   "cell_type": "code",
   "execution_count": null,
   "metadata": {},
   "outputs": [],
   "source": []
  },
  {
   "cell_type": "code",
   "execution_count": null,
   "metadata": {},
   "outputs": [],
   "source": []
  },
  {
   "cell_type": "code",
   "execution_count": null,
   "metadata": {},
   "outputs": [],
   "source": []
  },
  {
   "cell_type": "code",
   "execution_count": null,
   "metadata": {},
   "outputs": [],
   "source": []
  },
  {
   "cell_type": "code",
   "execution_count": null,
   "metadata": {},
   "outputs": [],
   "source": []
  },
  {
   "cell_type": "code",
   "execution_count": null,
   "metadata": {},
   "outputs": [],
   "source": [
    "# league = league_season_data(\n",
    "#     auth_dir=PATH,\n",
    "#     league_id=LEAGUE_ID,\n",
    "#     game_id=GAME_ID,\n",
    "#     game_code=\"nfl\",\n",
    "#     offline=False,\n",
    "#     all_output_as_json=False,\n",
    "#     consumer_key=CONSUMER_KEY,\n",
    "#     consumer_secret=CONSUMER_SECRET,\n",
    "#     browser_callback=True,\n",
    "# )\n",
    "# game_keys = league.all_game_keys()\n",
    "# nfl_weeks = league.all_nfl_weeks()\n",
    "\n",
    "# meta = league.metadata(first_time=first_time)\n",
    "# settings, roster, stat_cat = league.set_roster_pos_stat_cat(first_time=first_time)\n",
    "# draft = league.draft_results(first_time=first_time)\n",
    "# teams = league.teams_and_standings(first_time=\"no\")\n",
    "\n",
    "# for week in nfl_weeks_list[:-1]:\n",
    "#     matchups = league.matchups_by_week(first_time='no', nfl_week=week)\n",
    "\n",
    "# players = league.players_list(first_time=\"no\")\n",
    "# players.to_csv(f\"players_{str(SEASON)}.csv\", index=False)\n",
    "\n",
    "# for week in nfl_weeks_list[:-1]:\n",
    "#     week_roster = league.team_roster_by_week(first_time='no', nfl_week=week)\n",
    "# week_stats = league.player_stats_by_week(first_time=\"yes\", nfl_week=1)\n",
    "# for week in nfl_weeks_list[1:-1]:\n",
    "#     week_stats = league.player_stats_by_week(first_time=\"no\", nfl_week=week)\n",
    "\n",
    "# pd.set_option(\"display.max_columns\", 999)\n",
    "# week_stats"
   ]
  },
  {
   "cell_type": "code",
   "execution_count": null,
   "metadata": {},
   "outputs": [],
   "source": [
    "cur = DatabaseCursor(PATH / \"private.yaml\", options=\"-c search_path=dev\")\n",
    "df = pd.read_csv(PATH / \"assests\" / \"game_keys.csv\")\n",
    "cur.copy_table_to_postgres_new(df, \"test\", \"no\")"
   ]
  },
  {
   "cell_type": "code",
   "execution_count": null,
   "metadata": {},
   "outputs": [],
   "source": [
    "sql_query = \"\"\"\n",
    "SELECT *\n",
    "FROM dev.test\n",
    "\"\"\"\n",
    "db_cursor = DatabaseCursor(PATH / \"private.yaml\", options=\"-c search_path=dev\")\n",
    "db_cursor.copy_data_from_postgres(sql_query)"
   ]
  },
  {
   "cell_type": "code",
   "execution_count": null,
   "metadata": {},
   "outputs": [],
   "source": []
  },
  {
   "cell_type": "code",
   "execution_count": null,
   "metadata": {},
   "outputs": [],
   "source": []
  },
  {
   "cell_type": "code",
   "execution_count": null,
   "metadata": {},
   "outputs": [],
   "source": []
  },
  {
   "cell_type": "code",
   "execution_count": null,
   "metadata": {},
   "outputs": [],
   "source": []
  },
  {
   "cell_type": "code",
   "execution_count": null,
   "metadata": {},
   "outputs": [],
   "source": []
  },
  {
   "cell_type": "code",
   "execution_count": null,
   "metadata": {},
   "outputs": [],
   "source": []
  },
  {
   "cell_type": "code",
   "execution_count": null,
   "metadata": {},
   "outputs": [],
   "source": []
  }
 ],
 "metadata": {
  "kernelspec": {
   "display_name": "Python 3.10.4 ('yahoo_data.venv': venv)",
   "language": "python",
   "name": "python3"
  },
  "language_info": {
   "codemirror_mode": {
    "name": "ipython",
    "version": 3
   },
   "file_extension": ".py",
   "mimetype": "text/x-python",
   "name": "python",
   "nbconvert_exporter": "python",
   "pygments_lexer": "ipython3",
   "version": "3.10.4"
  },
  "orig_nbformat": 4,
  "vscode": {
   "interpreter": {
    "hash": "b5c43157472adecc608398212703a0dd003f122fa8c3d39eaca8de5be4578d47"
   }
  }
 },
 "nbformat": 4,
 "nbformat_minor": 2
}
