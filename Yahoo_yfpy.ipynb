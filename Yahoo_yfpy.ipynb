{
 "cells": [
  {
   "cell_type": "code",
   "execution_count": null,
   "id": "fd0412b0",
   "metadata": {},
   "outputs": [],
   "source": [
    "__author__ = \"Tim Cuddeback\"\n",
    "\n",
    "import yfpy, json\n",
    "from yfpy.query import YahooFantasySportsQuery\n",
    "import pandas as pd\n",
    "pd.set_option('display.max_colwidth', None)\n",
    "\n",
    "# Function that pulls data from Yahoo's Fantasy API and returns a sorted list of tuples with (team_id,current points)\n",
    "league_id = \"12514\" # put your real league id here\n",
    "game_id = \"399\" # put the game id here (game id's reflect the type of sport and the year)\n",
    "game_code = \"nfl\" # put the game code here\n",
    "season = \"2020\" # put the year of the current fantasy season\n",
    "auth_dir = '' # put the location where you are storing the client_id/secret\n",
    "working_dir = '' # put the location where you want excel file to be saved\n",
    "\n",
    "# Query yfpy to get data\n",
    "# yahoo_query = YahooFantasySportsQuery(auth_dir, league_id, game_id=game_id, game_code=game_code, offline=False)"
   ]
  },
  {
   "cell_type": "code",
   "execution_count": null,
   "id": "204918f8",
   "metadata": {},
   "outputs": [],
   "source": [
    "# Get standings data to get the points for the day\n",
    "# data = []\n",
    "# for i in range (0,17):\n",
    "#     d = yahoo_query.get_league_matchups_by_week(i)\n",
    "#     data.append(d)\n",
    "# d = yahoo_query.get_league_draft_results()\n",
    "# t = yahoo_query.get_league_teams()"
   ]
  },
  {
   "cell_type": "code",
   "execution_count": null,
   "id": "074229e6",
   "metadata": {},
   "outputs": [],
   "source": [
    "# teams = []\n",
    "# for i in range(0,len(t)):\n",
    "#     teams.append(t[i]['team'])\n",
    "# df = pd.DataFrame.from_dict(teams)\n",
    "# df = df[[0,2]]\n",
    "# df['Year'] = season\n",
    "# df.to_csv('lead-teams.csv',mode='a',header=False,index=False)\n",
    "# d2 = []\n",
    "# for i in range(0,len(d)):\n",
    "#     d2.append(d[i]['draft_result'])\n",
    "# df = pd.DataFrame.from_dict(d2)\n",
    "# df['Year'] = season\n",
    "# df.to_csv('league-draft.csv',mode='a',header=False,index=False)\n",
    "# data2 = []\n",
    "# for j in range(0,len(data)):\n",
    "#     for i in range(0,len(data[j])):\n",
    "#         data2.append(json.loads(str(data[j][i]['matchup'])))\n",
    "# for x in range(0,len(data2)):\n",
    "#     try:\n",
    "#         row = {\"week\" : data2[x]['week'],\n",
    "#            \"week_start\" : data2[x]['week_start'],\n",
    "#            \"team_id1\" : data2[x]['teams'][0]['team']['managers']['manager']['manager_id'],\n",
    "#            \"owner1\" : data2[x]['teams'][0]['team']['managers']['manager']['nickname'],\n",
    "#            \"team1\" : data2[x]['teams'][0]['team']['name'],\n",
    "#            \"points1\" : data2[x]['teams'][0]['team']['team_points']['total'],\n",
    "#            \"team_id2\" : data2[x]['teams'][1]['team']['managers']['manager']['manager_id'],\n",
    "#            \"owner2\" : data2[x]['teams'][1]['team']['managers']['manager']['nickname'],\n",
    "#            \"team2\" : data2[x]['teams'][1]['team']['name'],\n",
    "#            \"points2\" : data2[x]['teams'][1]['team']['team_points']['total']}\n",
    "#     except:\n",
    "#         row = {\"week\" : data2[x]['week'],\n",
    "#            \"week_start\" : data2[x]['week_start'],\n",
    "#            \"team_id1\" : data2[x]['teams'][0]['team']['managers']['manager']['manager_id'],\n",
    "#            \"owner1\" : data2[x]['teams'][0]['team']['managers']['manager']['nickname'],\n",
    "#            \"team1\" : data2[x]['teams'][0]['team']['name'],\n",
    "#            \"points1\" : data2[x]['teams'][0]['team']['team_points']['total'],\n",
    "#            \"team_id2\" : data2[x]['teams'][1]['team']['managers'][0]['manager']['manager_id'],\n",
    "#            \"owner2\" : data2[x]['teams'][1]['team']['managers'][0]['manager']['nickname'],\n",
    "#            \"team2\" : data2[x]['teams'][1]['team']['name'],\n",
    "#            \"points2\" : data2[x]['teams'][1]['team']['team_points']['total']}\n",
    "#     try:\n",
    "#         row1 = {\"week\" : data2[x]['week'],\n",
    "#            \"week_start\" : data2[x]['week_start'],\n",
    "#            \"team_id1\" : data2[x]['teams'][1]['team']['managers']['manager']['manager_id'],\n",
    "#            \"owner1\" : data2[x]['teams'][1]['team']['managers']['manager']['nickname'],\n",
    "#            \"team1\" : data2[x]['teams'][1]['team']['name'],\n",
    "#            \"points1\" : data2[x]['teams'][1]['team']['team_points']['total'],\n",
    "#            \"team_id2\" : data2[x]['teams'][0]['team']['managers']['manager']['manager_id'],\n",
    "#            \"owner2\" : data2[x]['teams'][0]['team']['managers']['manager']['nickname'],\n",
    "#            \"team2\" : data2[x]['teams'][0]['team']['name'],\n",
    "#            \"points2\" : data2[x]['teams'][0]['team']['team_points']['total']}\n",
    "#     except:\n",
    "#         row1 = {\"week\" : data2[x]['week'],\n",
    "#            \"week_start\" : data2[x]['week_start'],\n",
    "#            \"team_id1\" : data2[x]['teams'][1]['team']['managers'][0]['manager']['manager_id'],\n",
    "#            \"owner1\" : data2[x]['teams'][1]['team']['managers'][0]['manager']['nickname'],\n",
    "#            \"team1\" : data2[x]['teams'][1]['team']['name'],\n",
    "#            \"points1\" : data2[x]['teams'][1]['team']['team_points']['total'],\n",
    "#            \"team_id2\" : data2[x]['teams'][0]['team']['managers']['manager']['manager_id'],\n",
    "#            \"owner2\" : data2[x]['teams'][0]['team']['managers']['manager']['nickname'],\n",
    "#            \"team2\" : data2[x]['teams'][0]['team']['name'],\n",
    "#            \"points2\" : data2[x]['teams'][0]['team']['team_points']['total']}\n",
    "#     df = pd.DataFrame.from_dict([row,row1])\n",
    "#     df.to_csv('league-data2.csv',mode='a',index=False,header=False)"
   ]
  },
  {
   "cell_type": "code",
   "execution_count": null,
   "id": "34e51f41",
   "metadata": {},
   "outputs": [],
   "source": []
  },
  {
   "cell_type": "code",
   "execution_count": null,
   "id": "136726f4",
   "metadata": {},
   "outputs": [],
   "source": []
  },
  {
   "cell_type": "code",
   "execution_count": null,
   "id": "6809fe24",
   "metadata": {},
   "outputs": [],
   "source": []
  },
  {
   "cell_type": "code",
   "execution_count": null,
   "id": "c7121ff0",
   "metadata": {},
   "outputs": [],
   "source": []
  },
  {
   "cell_type": "code",
   "execution_count": null,
   "id": "ed5006c0",
   "metadata": {},
   "outputs": [],
   "source": []
  },
  {
   "cell_type": "code",
   "execution_count": null,
   "id": "e6b5e5e9",
   "metadata": {},
   "outputs": [],
   "source": []
  }
 ],
 "metadata": {
  "kernelspec": {
   "display_name": "Python 3",
   "language": "python",
   "name": "python3"
  },
  "language_info": {
   "codemirror_mode": {
    "name": "ipython",
    "version": 3
   },
   "file_extension": ".py",
   "mimetype": "text/x-python",
   "name": "python",
   "nbconvert_exporter": "python",
   "pygments_lexer": "ipython3",
   "version": "3.7.10"
  }
 },
 "nbformat": 4,
 "nbformat_minor": 5
}
