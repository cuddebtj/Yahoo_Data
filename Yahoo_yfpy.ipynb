{
 "cells": [
  {
   "cell_type": "code",
   "execution_count": 1,
   "id": "896136a4",
   "metadata": {},
   "outputs": [],
   "source": [
    "__author__ = \"Tim Cuddeback\"\n",
    "\n",
    "import yfpy, json\n",
    "from yfpy.query import YahooFantasySportsQuery\n",
    "import pandas as pd\n",
    "pd.set_option('display.max_colwidth', None)\n",
    "\n",
    "# Function that pulls data from Yahoo's Fantasy API and returns a sorted list of tuples with (team_id,current points)\n",
    "league_id = '12514' # put your real league id here\n",
    "game_id = \"399\" # put the game id here (game id's reflect the type of sport and the year)\n",
    "game_code = \"nfl\" # put the game code here\n",
    "season = \"2020\" # put the year of the current fantasy season\n",
    "auth_dir = '' # put the location where you are storing the client_id/secret\n",
    "working_dir = '' # put the location where you want excel file to be saved\n",
    "excel_file_name = 'Points.xlsx' # Name your file after you set up the headers\n",
    "\n",
    "# Query yffpy to get data\n",
    "yahoo_query = YahooFantasySportsQuery(auth_dir, league_id, game_id=game_id, game_code=game_code, offline=False)"
   ]
  },
  {
   "cell_type": "code",
   "execution_count": null,
   "id": "00c362b1",
   "metadata": {},
   "outputs": [],
   "source": [
    "# Get standings data to get the points for the day\n",
    "data = []\n",
    "for i in range (0,17):\n",
    "    d = yahoo_query.get_league_matchups_by_week(i)\n",
    "    data.append(d)\n",
    "# .get_league_teams(self)\n",
    "# .get_league_players(self)\n",
    "# .get_league_draft_results(self)\n",
    "# .get_league_matchups_by_week(self,chosen_week)\n",
    "# .get_team_info(self,team_id)\n",
    "# .get_team_standings(self,team_id) # has current \"streak\" within\n",
    "# .get_player_stats_by_week(self, player_key, chosen_week=\"current\")"
   ]
  },
  {
   "cell_type": "code",
   "execution_count": 7,
   "id": "c5b9c2b2",
   "metadata": {},
   "outputs": [],
   "source": [
    "data2 = []\n",
    "df = pd.DataFrame()\n",
    "for j in range(0,len(data)):\n",
    "    for i in range(0,len(data[j])):\n",
    "        data2.append(json.loads(str(data[j][i]['matchup'])))\n",
    "    for p in range(0,len(data2)):\n",
    "        row = {\"week\" : data2[p]['week'],\n",
    "               \"week_start\" : data2[p]['week_start'],\n",
    "               \"team_id1\" : data2[p]['teams'][0]['team']['managers']['manager']['manager_id'],\n",
    "               \"owner1\" : data2[p]['teams'][0]['team']['managers']['manager']['nickname'],\n",
    "               \"team1\" : data2[p]['teams'][0]['team']['name'],\n",
    "               \"points1\" : data2[p]['teams'][0]['team']['team_points']['total'],\n",
    "               \"team_id2\" : data2[p]['teams'][1]['team']['managers']['manager']['manager_id'],\n",
    "               \"owner2\" : data2[p]['teams'][1]['team']['managers']['manager']['nickname'],\n",
    "               \"team2\" : data2[p]['teams'][1]['team']['name'],\n",
    "               \"points2\" : data2[p]['teams'][1]['team']['team_points']['total']}\n",
    "        df1 = pd.DataFrame(row, index=[0])\n",
    "        df = pd.concat([df1,df])"
   ]
  },
  {
   "cell_type": "code",
   "execution_count": 21,
   "id": "397db8ac",
   "metadata": {},
   "outputs": [],
   "source": [
    "df = df.drop_duplicates(['team_id1','owner1','team1','points1','team_id2','owner2','team2','points2'])"
   ]
  },
  {
   "cell_type": "code",
   "execution_count": 23,
   "id": "44fba132",
   "metadata": {},
   "outputs": [],
   "source": [
    "df.to_csv('league-data.csv',index=False)"
   ]
  },
  {
   "cell_type": "code",
   "execution_count": null,
   "id": "bb96d340",
   "metadata": {},
   "outputs": [],
   "source": []
  }
 ],
 "metadata": {
  "kernelspec": {
   "display_name": "Python 3",
   "language": "python",
   "name": "python3"
  },
  "language_info": {
   "codemirror_mode": {
    "name": "ipython",
    "version": 3
   },
   "file_extension": ".py",
   "mimetype": "text/x-python",
   "name": "python",
   "nbconvert_exporter": "python",
   "pygments_lexer": "ipython3",
   "version": "3.7.10"
  }
 },
 "nbformat": 4,
 "nbformat_minor": 5
}
