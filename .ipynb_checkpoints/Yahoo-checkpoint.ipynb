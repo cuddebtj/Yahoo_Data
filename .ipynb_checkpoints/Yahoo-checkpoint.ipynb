{
 "cells": [
  {
   "cell_type": "code",
   "execution_count": null,
   "id": "adcc7afa",
   "metadata": {},
   "outputs": [],
   "source": [
    "__author__ = \"Tim Cuddeback\"\n",
    "\n",
    "import yfpy\n",
    "from yfpy.query import YahooFantasySportsQuery\n",
    "import json\n",
    "import openpyxl\n",
    "from datetime import date"
   ]
  },
  {
   "cell_type": "code",
   "execution_count": null,
   "id": "f2754c0f",
   "metadata": {},
   "outputs": [],
   "source": [
    "# Function that pulls data from Yahoo's Fantasy API and returns a sorted list of tuples with (team_id,current points)\n",
    "league_id = '12514' # put your real league id here\n",
    "game_id = \"399\" # put the game id here (game id's reflect the type of sport and the year)\n",
    "game_code = \"nfl\" # put the game code here\n",
    "season = \"2020\" # put the year of the current fantasy season\n",
    "auth_dir = '' # put the location where you are storing the client_id/secret\n",
    "working_dir = '' # put the location where you want excel file to be saved\n",
    "excel_file_name = 'Points.xlsx' # Name your file after you set up the headers\n",
    "# Query yffpy to get data\n",
    "yahoo_query = YahooFantasySportsQuery(auth_dir, league_id, game_id=game_id, game_code=game_code, offline=False)\n",
    "\n",
    "# # Get standings data to get the points for the day\n",
    "# standings_data = yahoo_query.get_league_standings()\n",
    "\n",
    "data = yahoo_query.get_team_standings(1)\n",
    "# .get_league_teams(self)\n",
    "# .get_league_players(self)\n",
    "# .get_league_draft_results(self)\n",
    "# .get_league_matchups_by_week(self,chosen_week)\n",
    "# .get_team_info(self,team_id)\n",
    "# .get_team_standings(self,team_id) # has current \"streak\" within\n",
    "# .get_player_stats_by_week(self, player_key, chosen_week=\"current\")\n",
    "data\n",
    "\n",
    "# # Convert Standings Object to json\n",
    "# parsed_json = (json.loads(str(data)))\n",
    "\n",
    "# # Initialize a list that can store the data\n",
    "# team_list = []\n",
    "# # Iterate over the Standings json to get teamids and their respective points\n",
    "# for team in parsed_json['teams']:\n",
    "#     team_list.append((int(team['team']['team_id']),team['team']['team_standings']['points_for']))\n",
    "\n",
    "# # Sort the team list by the team id\n",
    "# team_list = sorted(team_list)\n",
    "\t\n",
    "\n",
    "\n",
    "# Function that takes in a sorted list of tuples with (team_id,current points) and puts it in an excel sheet\n",
    "\n",
    "\n",
    "# # open file and go to active sheet\n",
    "# book = openpyxl.load_workbook(working_dir+excel_file_name)\n",
    "# sheet = book.active\n",
    "\n",
    "# # Create a list with the first column being the date and the following columns being the points for each respective team\n",
    "# new_excel_row = []\n",
    "# new_excel_row.append(date.today().strftime(\"%d/%m/%Y\"))\n",
    "\n",
    "# for team in team_list:\n",
    "#     new_excel_row.append(team[1])\n",
    "\n",
    "# # Add new row to sheet and save the file\t\n",
    "# sheet.append(new_excel_row)\n",
    "# book.save(working_dir+excel_file_name)\n",
    "\n",
    "\n",
    "# team_list_today = pull_data(season,league_id,game_id,game_code,auth_dir)\n",
    "# write_to_sheet(working_dir,excel_file_name,team_list_today)"
   ]
  },
  {
   "cell_type": "code",
   "execution_count": null,
   "id": "852bcef8",
   "metadata": {},
   "outputs": [],
   "source": []
  },
  {
   "cell_type": "code",
   "execution_count": null,
   "id": "49cb012f",
   "metadata": {},
   "outputs": [],
   "source": []
  }
 ],
 "metadata": {
  "kernelspec": {
   "display_name": "Python 3",
   "language": "python",
   "name": "python3"
  },
  "language_info": {
   "codemirror_mode": {
    "name": "ipython",
    "version": 3
   },
   "file_extension": ".py",
   "mimetype": "text/x-python",
   "name": "python",
   "nbconvert_exporter": "python",
   "pygments_lexer": "ipython3",
   "version": "3.7.10"
  }
 },
 "nbformat": 4,
 "nbformat_minor": 5
}
